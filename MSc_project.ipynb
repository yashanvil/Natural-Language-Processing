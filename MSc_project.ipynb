{
 "cells": [
  {
   "cell_type": "code",
   "execution_count": 2,
   "metadata": {},
   "outputs": [],
   "source": [
    "import pandas as pd\n",
    "import nltk\n",
    "import string\n",
    "import json\n",
    "from bs4 import BeautifulSoup\n",
    "from nltk.corpus import stopwords\n",
    "from nltk.tokenize import RegexpTokenizer\n",
    "from nltk.stem import WordNetLemmatizer\n",
    "from nltk.stem.porter import PorterStemmer\n",
    "from nltk.probability import FreqDist"
   ]
  },
  {
   "cell_type": "code",
   "execution_count": 3,
   "metadata": {},
   "outputs": [],
   "source": [
    "path = '/Users/yashmehta/Documents/MSc_project/Code/test.json'\n",
    "df = pd.read_json(path, lines=True, orient='records')"
   ]
  },
  {
   "cell_type": "code",
   "execution_count": 26,
   "metadata": {},
   "outputs": [
    {
     "data": {
      "text/plain": [
       "0    [After a long day of handling thorny situation...\n",
       "1    [If you haven't experienced the pleasures of b...\n",
       "2    [Rich, black mineral mud, harvested from the b...\n",
       "3    [This liquid soap with convenient pump dispens...\n",
       "4    [Remember why you love your favorite blanket? ...\n",
       "5    [Winter, summer, spring or fall, this soothing...\n",
       "6    [Highly concentrated formula created to rejuve...\n",
       "7    [Please note: Due to product improvements, the...\n",
       "8    [Created by Dr. Irwin Smigel, world-renowned \"...\n",
       "9    [Naturally stimulating essential oils make our...\n",
       "0    Crabtree & Evelyn - Gardener's Ultra-Moisturis...\n",
       "1                                     AHAVA Bath Salts\n",
       "2        AHAVA Dead Sea Mineral Mud, 8.5 oz, Pack of 4\n",
       "3    Crabtree & Evelyn Hand Soap, Gardeners, 10.1 f...\n",
       "4                                   Soy Milk Hand Crme\n",
       "5    AHAVA Dermud Enriched Intensive Foot Cream, 4....\n",
       "6    AHAVA Dermud Intensive Nourishing Hand Cream, ...\n",
       "7                       Supersmile Powdered Mouthrinse\n",
       "8    Supersmile Professional Teeth Whitening Toothp...\n",
       "9       Archipelago Morning Mint Body Lotion ,18 Fl Oz\n",
       "dtype: object"
      ]
     },
     "execution_count": 26,
     "metadata": {},
     "output_type": "execute_result"
    }
   ],
   "source": [
    "product_data = df['description']\n",
    "title_data = df['title']\n",
    "\n",
    "\n",
    "product_data.append(title_data)\n",
    "\n",
    "# for i in range(len(product_data)):\n",
    "#         for j in range(len(product_data[i])):\n",
    "#             print(product_data[i])\n"
   ]
  },
  {
   "cell_type": "code",
   "execution_count": 5,
   "metadata": {},
   "outputs": [],
   "source": [
    "# green_words = [\"long\", \"green\", \"organic\", \"recyclable\", \"naturally\"]\n",
    "# for word in green_words:\n",
    "#     if word in product_data[]:\n",
    "#         print(word)"
   ]
  },
  {
   "cell_type": "code",
   "execution_count": 6,
   "metadata": {},
   "outputs": [],
   "source": [
    "def remove_html(text):\n",
    "    # print(\"Text data type:\", type(text[1]))\n",
    "    test_list = []\n",
    "    for i in text:\n",
    "        soup_text = BeautifulSoup(i, 'lxml').text\n",
    "        test_list.append(soup_text)\n",
    "        # print(test_list)\n",
    "    # print(\"Test data content:\", test_list)\n",
    "    return test_list"
   ]
  },
  {
   "cell_type": "code",
   "execution_count": 7,
   "metadata": {},
   "outputs": [],
   "source": [
    "def remove_punctuation(text):\n",
    "    no_punctuation = \"\".join([line for line in text if line not in string.punctuation])\n",
    "    return no_punctuation\n"
   ]
  },
  {
   "cell_type": "code",
   "execution_count": 8,
   "metadata": {},
   "outputs": [],
   "source": [
    "def remove_stopwords(text):\n",
    "    stop_words = [w for w in text if w not in stopwords.words('english')]\n",
    "    return stop_words"
   ]
  },
  {
   "cell_type": "code",
   "execution_count": 9,
   "metadata": {},
   "outputs": [
    {
     "name": "stdout",
     "output_type": "stream",
     "text": [
      "0    [After a long day of handling thorny situation...\n",
      "1    [If you haven't experienced the pleasures of b...\n",
      "2    [Rich, black mineral mud, harvested from the b...\n",
      "3    [This liquid soap with convenient pump dispens...\n",
      "4    [Remember why you love your favorite blanket? ...\n",
      "5    [Winter, summer, spring or fall, this soothing...\n",
      "6    [Highly concentrated formula created to rejuve...\n",
      "7    [Please note: Due to product improvements, the...\n",
      "8    [Created by Dr. Irwin Smigel, world-renowned \"...\n",
      "9    [Naturally stimulating essential oils make our...\n",
      "Name: description, dtype: object\n"
     ]
    }
   ],
   "source": [
    "product_data = product_data.apply(lambda x: remove_html(x))\n",
    "print(product_data)\n"
   ]
  },
  {
   "cell_type": "code",
   "execution_count": 10,
   "metadata": {},
   "outputs": [
    {
     "name": "stdout",
     "output_type": "stream",
     "text": [
      "0    After a long day of handling thorny situations...\n",
      "1    If you haven't experienced the pleasures of ba...\n",
      "2    Rich, black mineral mud, harvested from the ba...\n",
      "3    This liquid soap with convenient pump dispense...\n",
      "4    Remember why you love your favorite blanket? T...\n",
      "5    Winter, summer, spring or fall, this soothing ...\n",
      "6    Highly concentrated formula created to rejuven...\n",
      "7    Please note: Due to product improvements, the ...\n",
      "8    Created by Dr. Irwin Smigel, world-renowned \"F...\n",
      "9    Naturally stimulating essential oils make our ...\n",
      "Name: description, dtype: object\n"
     ]
    }
   ],
   "source": [
    "product_data = product_data.apply(lambda x: remove_punctuation(x))\n",
    "print(product_data)"
   ]
  },
  {
   "cell_type": "code",
   "execution_count": 11,
   "metadata": {},
   "outputs": [
    {
     "name": "stdout",
     "output_type": "stream",
     "text": [
      "Product data tokenized 0    [after, a, long, day, of, handling, thorny, si...\n",
      "1    [if, you, haven, t, experienced, the, pleasure...\n",
      "2    [rich, black, mineral, mud, harvested, from, t...\n",
      "3    [this, liquid, soap, with, convenient, pump, d...\n",
      "4    [remember, why, you, love, your, favorite, bla...\n",
      "5    [winter, summer, spring, or, fall, this, sooth...\n",
      "6    [highly, concentrated, formula, created, to, r...\n",
      "7    [please, note, due, to, product, improvements,...\n",
      "8    [created, by, dr, irwin, smigel, world, renown...\n",
      "9    [naturally, stimulating, essential, oils, make...\n",
      "Name: description, dtype: object\n"
     ]
    }
   ],
   "source": [
    "tokenizer = RegexpTokenizer(r'\\w+')\n",
    "product_data = product_data.apply(lambda x: tokenizer.tokenize(x.lower()))\n",
    "print(\"Product data tokenized\", product_data)"
   ]
  },
  {
   "cell_type": "code",
   "execution_count": 12,
   "metadata": {},
   "outputs": [
    {
     "name": "stdout",
     "output_type": "stream",
     "text": [
      "Product data without stop_words 0    [long, day, handling, thorny, situations, new,...\n",
      "1    [experienced, pleasures, bathing, dead, sea, b...\n",
      "2    [rich, black, mineral, mud, harvested, banks, ...\n",
      "3    [liquid, soap, convenient, pump, dispenser, fo...\n",
      "4    [remember, love, favorite, blanket, soft, comf...\n",
      "5    [winter, summer, spring, fall, soothing, foot,...\n",
      "6    [highly, concentrated, formula, created, rejuv...\n",
      "7    [please, note, due, product, improvements, ima...\n",
      "8    [created, dr, irwin, smigel, world, renowned, ...\n",
      "9    [naturally, stimulating, essential, oils, make...\n",
      "Name: description, dtype: object\n"
     ]
    }
   ],
   "source": [
    "product_data = product_data.apply(lambda x: remove_stopwords(x))\n",
    "print(\"Product data without stop_words\", product_data)"
   ]
  },
  {
   "cell_type": "code",
   "execution_count": 13,
   "metadata": {},
   "outputs": [],
   "source": [
    "lemmatizer = WordNetLemmatizer()\n",
    "def word_lemmatizer(text):\n",
    "    lemmatized_text = [lemmatizer.lemmatize(i) for i in text]\n",
    "    return lemmatized_text\n"
   ]
  },
  {
   "cell_type": "code",
   "execution_count": 14,
   "metadata": {},
   "outputs": [
    {
     "name": "stdout",
     "output_type": "stream",
     "text": [
      "Product data Lemmas\n",
      " 0    [long, day, handling, thorny, situation, new, ...\n",
      "1    [experienced, pleasure, bathing, dead, sea, ba...\n",
      "2    [rich, black, mineral, mud, harvested, bank, d...\n",
      "3    [liquid, soap, convenient, pump, dispenser, fo...\n",
      "4    [remember, love, favorite, blanket, soft, comf...\n",
      "5    [winter, summer, spring, fall, soothing, foot,...\n",
      "6    [highly, concentrated, formula, created, rejuv...\n",
      "7    [please, note, due, product, improvement, imag...\n",
      "8    [created, dr, irwin, smigel, world, renowned, ...\n",
      "9    [naturally, stimulating, essential, oil, make,...\n",
      "Name: description, dtype: object\n",
      "<class 'pandas.core.series.Series'>\n"
     ]
    }
   ],
   "source": [
    "product_data = product_data.apply(lambda x: word_lemmatizer(x))\n",
    "print(\"Product data Lemmas\\n\", product_data)\n",
    "print(type(product_data))\n"
   ]
  },
  {
   "cell_type": "code",
   "execution_count": 15,
   "metadata": {},
   "outputs": [],
   "source": [
    "# stemmer = PorterStemmer()"
   ]
  },
  {
   "cell_type": "code",
   "execution_count": 16,
   "metadata": {},
   "outputs": [],
   "source": [
    " # def word_stemmer(text):\n",
    "#     stem_text = \" \".join([stemmer.stem(i) for i in text])\n",
    "#     return stem_text"
   ]
  },
  {
   "cell_type": "code",
   "execution_count": 17,
   "metadata": {},
   "outputs": [],
   "source": [
    "# product_data = product_data.apply(lambda x: word_stemmer(x))"
   ]
  },
  {
   "cell_type": "code",
   "execution_count": 18,
   "metadata": {},
   "outputs": [
    {
     "data": {
      "text/plain": [
       "array([list(['long', 'day', 'handling', 'thorny', 'situation', 'new', 'hand', 'therapy', 'pump', 'help', 'need', 'contains', 'shea', 'butter', 'well', 'extract', 'yarrow', 'clover', 'calendula', 'help', 'soothe', 'condition', 'work', 'roughened', 'hand', 'crabtree', 'evelynthe', 'aromatic', 'benefit', 'herb', 'varied', 'far', 'reaching', 'combined', 'whole', 'bunch', 'one', 'restoratively', 'fragrant', 'line', 'straight', 'garden', 'formulated', 'gardener', 'hand', 'therapy', 'myrrh', 'extract', 'help', 'condition', 'nail', 'cuticle', 'well', 'skin', 'super', 'hydrators', 'macadamia', 'seed', 'oil', 'shea', 'butter', 'help', 'replenish', 'lost', 'moisture', 'rich', 'herbal', 'extract', 'like', 'cooling', 'cucumber', 'rosemary', 'leaf', 'favourite', 'antioxidant', 'help', 'protect', 'hand', 'daily', 'urban', 'environmental', 'stress', 'hydrating', 'power', 'vitamin', 'e', 'hyaluronic', 'acid', 'ceramides', 'contribute', 'improve', 'skin', 'natural', 'moisture', 'barrier', 'garden', 'inspired', 'treatment', 'skin', 'left', 'silky', 'soft', 'delicately', 'scented', 'use', 'dab', 'pea', 'sized', 'amount', 'palm', 'work', 'skin', 'nail', 'combine', 'gardener', 'hand', 'wash', 'hand', 'scrub', 'get', 'silky', 'skin', 'three', 'herb', 'infused', 'step', 'originally', 'created', 'appeal', 'horticulturist', 'wealth', 'knowledge', 'healing', 'power', 'herb', 'botanical', 'range', 'formulated', 'cleansing', 'cucumber', 'extract', 'purifying', 'rosemary', 'extract', 'oak', 'moss', 'refreshing', 'sage', 'extract', 'search', 'world', 'natural', 'ingredient', 'fragrance', 'journey', 'enable', 'customer', 'live', 'life', 'cultivated', 'inspired', 'crabapple', 'tree', 'original', 'specie', 'cultivated', 'apple', 'tree', 'derived', 'john', 'evelyn', '17th', 'century', 'renaissance', 'englishman', 'whose', 'motto', 'explore', 'everything', 'keep', 'best', 'provided', 'inspiration', 'founding', 'day']),\n",
       "       list(['experienced', 'pleasure', 'bathing', 'dead', 'sea', 'bath', 'crystal', 'next', 'best', 'thing', 'rich', 'health', 'inducing', 'mineral', 'including', 'magnesium', 'calcium', 'sodium', 'potassium', 'soothe', 'body', 'relaxation', 'easing', 'muscle', 'tension', 'softening', 'skin', 'immerse', 'water', 'well']),\n",
       "       list(['rich', 'black', 'mineral', 'mud', 'harvested', 'bank', 'dead', 'sea', 'comprised', 'layer', 'upon', 'layer', 'sedimentary', 'clay', 'formed', 'thousand', 'year', 'captured', 'within', 'extremely', 'high', 'concentration', 'mineral', 'scientifically', 'proven', 'essential', 'maintaining', 'healthy', 'skin', 'ahava', 'black', 'mineral', 'mud', 'work', 'deep', 'clean', 'purify', 'restore', 'skin', 'natural', 'moisture', 'balance', 'leaving', 'smooth', 'radiant', 'revitalized']),\n",
       "       list(['liquid', 'soap', 'convenient', 'pump', 'dispenser', 'formulated', 'conditioning', 'extract', 'sage', 'rosemary', 'alfalfa', 'carrot', 'cucumber', 'deodorizes', 'skin', 'leaf', 'refreshed', 'clean', 'herbal', 'scent', 'watched', 'favorite', 'gardener', 'spend', 'hour', 'lovingly', 'pampering', 'plant', 'doting', 'weekend', 'tulip', 'carrot', 'tomato', 'last', 'time', 'doted', 'crabtree', 'evelyn', 'come', 'rescue', 'gardener', 'hand', 'everywhere', 'line', 'lavish', 'skin', 'care', 'product', 'hand', 'soap', 'made', 'vegetable', 'base', 'blend', 'feature', 'sage', 'alfalfa', 'cucumber', 'extract', 'packaged', 'handy', 'metal', 'pump', 'dispenser', 'formulated', 'gentle', 'gardener', 'hand', 'pampering', 'long', 'day', 'dirt', 'combine', 'crabtree', 'evelyn', 'accessory', 'like', 'gardener', 'hand', 'therapy', 'skin', 'remedy', 'fantastic', 'gift', 'set', 'indulge', 'favorite', 'gardener', 'well', 'deserved', 'treat', 'ariel', 'meadow', 'stallingsthe', 'aromatic', 'benefit', 'herb', 'varied', 'far', 'reaching', 'combined', 'whole', 'bunch', 'one', 'restoratively', 'fragrant', 'line', 'straight', 'garden', 'cleansing', 'fragrant', 'hand', 'wash', 'power', 'transport', 'away', 'city', 'straight', 'countryside', 'thanks', 'heady', 'mix', 'herbal', 'heavyweight', 'clarifying', 'cucumber', 'antioxidant', 'rich', 'rosemary', 'leaf', 'soothing', 'aloe', 'leaf', 'juice', 'hand', 'cleansed', 'revived', 'freshest', 'scent', 'like', 'restorative', 'tonic', 'gardener', 'hand', 'soap', 'mild', 'gentle', 'leave', 'petal', 'soft', 'hand', 'use', 'thoroughly', 'cleansed', 'silky', 'soft', 'hand', 'dab', 'pea', 'sized', 'amount', 'soap', 'onto', 'skin', 'lather', 'well', 'warm', 'water', 'rinse', 'pat', 'dry', 'combine', 'hand', 'wash', 'exfoliating', 'hand', 'scrub', 'moisturising', 'hand', 'therapy', 'ultimate', 'ritual', 'originally', 'created', 'appeal', 'horticulturist', 'wealth', 'knowledge', 'healing', 'power', 'herb', 'botanical', 'range', 'formulated', 'cleansing', 'cucumber', 'extract', 'purifying', 'rosemary', 'extract', 'oak', 'moss', 'refreshing', 'sage', 'extract', 'search', 'world', 'natural', 'ingredient', 'fragrance', 'journey', 'enable', 'customer', 'live', 'life', 'cultivated', 'inspired', 'crabapple', 'tree', 'original', 'specie', 'cultivated', 'apple', 'tree', 'derived', 'john', 'evelyn', '17th', 'century', 'renaissance', 'englishman', 'whose', 'motto', 'explore', 'everything', 'keep', 'best', 'provided', 'inspiration', 'founding', 'day']),\n",
       "       list(['remember', 'love', 'favorite', 'blanket', 'soft', 'comforting', 'feeling', 'wrapping', 'around', 'shoulder', 'give', 'instant', 'happiness', 'hug', 'hand', 'deserve', 'love', 'every', 'application', 'soy', 'extract', 'blended', 'dried', 'milk', 'solid', 'whipped', 'perfection', 'greets', 'hand', 'loving', 'hydration', 'favorite', 'among', 'nutrition', 'expert', 'soy', 'extract', 'primary', 'ingredient', 'soy', 'milk', 'hand', 'crme', 'protein', 'amino', 'acid', 'lipid', 'high', 'powered', 'bean', 'allow', 'rapid', 'hydration', 'skin', 'regeneration', 'natural', 'jojoba', 'ester', 'premium', 'ingredient', 'added', 'allow', 'cream', 'go', 'smoothly', 'without', 'greasy', 'feel', 'final', 'result', 'distinctive', 'cream', 'love', 'first', 'time', 'applied', 'welcome', 'world', 'archipelago', 'botanical', 'warm', 'candlelight', 'exquisite', 'fragrance', 'soothing', 'product', 'make', 'house', 'home', 'beautician', 'favorite', 'collection', 'feature', 'dried', 'milk', 'solid', 'natural', 'protein', 'gently', 'nurture', 'soothe', 'skin', 'leaving', 'naturally', 'soft', 'supple', 'available', 'soy', 'oat', 'protein', 'combination', 'blend', 'two', 'soy', 'protein', 'make', 'perfect', 'additive', 'skin', 'amino', 'acid', 'lipid', 'found', 'high', 'powered', 'bean', 'allow', 'rapid', 'cell', 'rehydration', 'regeneration', 'soy', 'lotion', 'blended', 'dried', 'milk', 'solid', 'keep', 'skin', 'looking', 'feeling', 'soft', 'supple', 'natural', 'jojoba', 'ester', 'premium', 'ingredient', 'added', 'allow', 'lotion', 'go', 'smoothly', 'without', 'greasy', 'feel', 'final', 'result', 'distinctive', 'lotion', 'youll', 'appreciate', 'first', 'time', 'touch', 'skin', 'gentle', 'oat', 'protein', 'perfect', 'solution', 'dry', 'skin', 'oat', 'lotion', 'blended', 'dried', 'milk', 'solid', 'keep', 'skin', 'looking', 'feeling', 'soft', 'supple', 'natural', 'jojoba', 'ester', 'premium', 'ingredient', 'added', 'allow', 'lotion', 'go', 'smoothly', 'without', 'leaving', 'greasy', 'feel', 'final', 'result', 'distinctive', 'lotion', 'love', 'first', 'time', 'applied', 'protein', 'amino', 'acid', 'lipid', 'high', 'powered', 'bean', 'allow', 'rapid', 'hydration', 'skin', 'regeneration', 'hand', 'cream', 'blended', 'dried', 'milk', 'solid', 'keep', 'hand', 'looking', 'feeling', 'soft', 'supple', 'irresistibly', 'scented', 'hand', 'treatment', 'highly', 'recommended', 'part', 'daily', 'skin', 'care', 'routine', 'beautiful', 'soft', 'hand', 'oat', 'milk', 'hand', 'crme', 'perfect', 'dry', 'chapped', 'hand', 'gentle', 'oat', 'protein', 'mixed', 'aloe', 'resulting', 'one', 'best', 'moisturizing', 'formulation', 'market', 'milk', 'hand', 'wash', 'perfect', 'soap', 'keep', 'hand', 'looking', 'healthy', 'clean', 'dried', 'milk', 'solid', 'natural', 'soy', 'oat', 'rice', 'protein', 'combine', 'create', 'distinctive', 'hand', 'wash', 'love', 'first', 'time', 'use', 'apply', 'liberally', 'work', 'robust', 'lather', 'rinse', 'gentle', 'enough', 'everyday', 'use', 'begin', 'daily', 'beauty', 'routine', 'gentle', 'foaming', 'cleanser', 'one', 'archipelago', 'botanical', 'aromatherapy', 'bath', 'body', 'collection', 'moisturizing', 'body', 'wash', 'highly', 'recommended', 'dry', 'skin', 'also', 'available', 'larger', '33', 'oz', 'bottle']),\n",
       "       list(['winter', 'summer', 'spring', 'fall', 'soothing', 'foot', 'cream', 'act', 'deeply', 'alleviate', 'itchiness', 'redness', 'scaling', 'dry', 'foot', 'dermud', 'special', 'blend', 'dead', 'sea', 'mud', 'mineral', 'plant', 'derivative', 'moisturizes', 'soothes', 'repair', 'restoring', 'youthful', 'vitality', 'foot']),\n",
       "       list(['highly', 'concentrated', 'formula', 'created', 'rejuvenate', 'even', 'driest', 'skin', 'grease', 'free', 'blend', 'mineral', 'enriched', 'mud', 'mineral', 'skin', 'osmoter', 'complex', 'assorted', 'natural', 'essence', 'work', 'deep', 'relieve', 'itchiness', 'redness', 'scaling', 'stimulates', 'skin', 'moisturizing', 'action']),\n",
       "       list(['please', 'note', 'due', 'product', 'improvement', 'image', 'shown', 'may', 'temporarily', 'appear', 'different', 'product', 'received', 'leaf', 'teeth', 'cleaned', 'breath', 'fresh', 'add', 'water', 'instantly', 'rinse', 'away', 'stain', 'odor', 'germ', 'plaque', 'supersmile', 'mouthrinse', 'meant', 'used', 'anytime', 'cannot', 'brush', 'meeting', 'meal', 'date', 'plane', 'inquiry', 'visit', 'website', 'supersmileusa', 'com', 'call', '1', '800', '784', 'smile']),\n",
       "       list(['created', 'dr', 'irwin', 'smigel', 'world', 'renowned', 'father', 'aesthetic', 'dentistry', 'contains', 'unprecedented', 'science', 'behind', 'supersmile', 'calprox', 'proprietary', 'formula', 'encapsulated', 'calcium', 'peroxide', 'mineral', 'calprox', 'gently', 'effectively', 'remove', 'sticky', 'bio', 'film', 'teeth', 'plaque', 'bacteria', 'stain', 'adhere', 'without', 'risk', 'sensitivity', 'clinically', 'shown', 'whiten', 'teeth', '6', 'shade', 'used', 'professional', 'whitening', 'accelerator', 'inhibits', 'plaque', '10x', 'better', 'leading', 'plaque', 'removing', 'toothpaste', '75', 'le', 'abrasive', 'limit', 'set', 'ada', 'best', 'selling', 'formula', 'safely', 'effectively', 'lift', 'surface', 'stain', 'coffee', 'tea', 'tobacco', 'red', 'wine', 'without', 'harsh', 'abrasive', 'contains', 'calcium', 'magnesium', 'phosphate', 'fluoride', 'remineralize', 'restore', 'enamel', 'fight', 'cavity', 'restores', 'bonded', 'teeth', 'veneer', 'cap', 'denture', 'original', 'shade', 'brush', 'whiten', 'free', 'silica', 'parabens', 'sulfate', 'known', 'allergen', 'animal', 'product', 'bpa', 'also', 'kosherhailed', '1', 'whitening', 'system', 'recommended', 'cosmetic', 'dentist', 'supersmile', 'world', 'renowned', 'unparalleled', 'ability', 'safely', 'whiten', 'also', 'cleaning', 'protecting', 'strengthening', 'teeth', 'since', 'revolutionizing', 'industry', 'dr', 'irwin', 'smigel', 'supersmile', 'forefront', 'every', 'major', 'innovation', 'dentistry', 'earning', 'dr', 'smigel', 'permanent', 'exhibition', 'achievement', 'national', 'museum', 'dentistry', 'acknowledged', 'new', 'york', 'university', 'college', 'dentistry', 'celebrated', 'peer', 'internationally', 'father', 'aesthetic', 'dentistry', 'dr', 'irwin', 'smigel', 'founder', 'former', 'president', 'american', 'society', 'dental', 'aesthetic', 'diplomat', 'american', 'board', 'aesthetic', 'dentistry', 'creator', 'international', 'spokesperson', 'supersmile', 'frequently', 'asked', 'questionsq', 'calprox', 'calprox', 'unprecedented', 'science', 'behind', 'supersmile', 'proprietary', 'technology', 'encapsulated', 'calcium', 'peroxide', 'mineral', 'calprox', 'work', 'gently', 'effectively', 'dissolving', 'sticky', 'bio', 'film', 'teeth', 'plaque', 'bacteria', 'stain', 'coffee', 'tea', 'tobacco', 'red', 'wine', 'anything', 'stain', 'white', 'shirt', 'adhere', 'dissolving', 'bio', 'film', 'calprox', 'remove', 'stain', 'remineralizes', 'enamel', 'without', 'risk', 'sensitivity', 'proprietary', 'formula', 'leaf', 'teeth', 'whiter', 'feeling', 'cleaner', 'healthier', 'q', 'calprox', 'safe', 'dental', 'work', 'study', 'proven', 'calprox', 'safe', 'water', 'dental', 'work', 'many', 'toothpaste', 'use', 'silica', 'abrasive', 'sand', 'like', 'material', 'whiten', 'teeth', 'scratching', 'away', 'surface', 'stain', 'silica', 'highly', 'abrasive', 'time', 'thin', 'enamel', 'thin', 'enamel', 'cause', 'sensitivity', 'may', 'lead', 'serious', 'oral', 'problem', 'well', 'causing', 'teeth', 'look', 'yellow', 'calprox', 'allows', 'safe', 'whitening', 'risk', 'sensitivity', 'calprox', 'contains', 'mineral', 'calcium', 'magnesium', 'phosphate', 'combined', 'fluoride', 'remineralizes', 'restores', 'enamel', 'calprox', 'found', 'almost', 'supersmile', 'product', 'proudly', 'free', 'silica', 'parabens', 'sulfate', 'known', 'allergen', 'animal', 'product', 'triclosan', 'microbeads', 'polyethylene', 'bpa', 'q', 'supersmile', 'product', 'work', 'type', 'teeth', 'supersmile', 'work', 'type', 'teeth', 'including', 'natural', 'teeth', 'veneer', 'crown', 'bonding', 'even', 'denture', 'supersmile', 'also', 'great', 'use', 'orthodontic', 'work', 'brace', 'invisalign', 'q', 'eat', 'right', 'finish', 'brushing', 'yes', 'eat', 'right', 'brushing', 'get', 'rid', 'daily', 'build', 'make', 'sure', 'last', 'thing', 'going', 'bed', 'brush', 'teeth', 'q', 'whitening', 'toothpaste', 'go', 'dry', 'toothbrush', 'whitening', 'toothpaste', 'best', 'used', 'dry', 'toothbrush', 'calprox', 'formula', 'reacts', 'water', 'ideally', 'reaction', 'begin', 'saliva', 'mouth', 'water', 'toothbrush', 'q', 'recommended', 'time', 'used', 'brushing', 'recommend', 'brush', 'teeth', 'least', '2', 'minute', 'morning', '2', 'minute', 'night', 'right', 'going', 'bed', 'extremely', 'important', 'brush', 'night', 'day', 'swallow', '20', '000', 'time', 'drink', 'talk', 'contribute', 'quantity', 'saliva', 'mouth', 'produce', 'night', 'however', 'swallow', '20', 'time', 'allowing', 'plaque', 'bacteria', 'form', 'uninterrupted', 'plaque', 'remains', 'teeth', 'hour', 'turn', 'bacterial', 'thus', 'contributing', 'plaque', 'buildup', 'morning', 'breath', 'q', 'advantage', 'using', 'supersmile', 'product', 'opposed', 'whitening', 'product', 'supersmiles', 'professional', 'whitening', 'toothpaste', 'recommended', 'cosmetic', 'dentist', 'worldwide', 'clinically', 'proven', 'whiten', 'teeth', '4', 'shade', '6', 'shade', 'used', 'supersmile', 'whitening', 'accelerator', 'supersmile', 'professional', 'whitening', 'toothpaste', 'remineralizes', 'teeth', 'calcium', 'magnesium', 'phosphate', 'fluoride', 'restore', 'enamel', 'fight', 'cavity', 'simply', 'put', 'convenient', 'healthy', 'way', 'powerfully', 'whiten', 'teeth', 'without', 'sensitivity', 'messy', 'strip', 'tray', 'change', 'lifestyle', 'continue', 'enjoy', 'favorite', 'food', 'beverage', 'also', 'uniquely', 'work', 'well', 'restore', 'dental', 'restoration', 'original', 'shade', 'including', 'bonded', 'teeth', 'veneer', 'cap', 'denture', 'harsh', 'sensitivity', 'causing', 'bleach', 'dehydrate', 'enamel', 'free', 'sl', 'parabens', 'known', 'allergen', 'animal', 'product', 'bpa', 'q', 'long', 'take', 'see', 'result', 'people', 'may', 'see', 'result', 'one', 'brushing', 'take', 'little', 'longer', 'people', 'see', 'result', 'day', 'use', 'directed', 'process', 'continuous', 'one', 'please', 'remember', 'lot', 'factor', 'go', 'long', 'process', 'take', 'age', 'medication', 'eating', 'habit', 'dental', 'work', 'etc', 'addition', 'depends', 'stain', 'long', 'deeply', 'rooted', 'enamel', 'positive', 'result', 'vary', 'however', 'change', 'eating', 'habit', 'eat', 'drink', 'usual', 'continuous', 'brushing', 'continue', 'remove', 'stain', 'whiten']),\n",
       "       list(['naturally', 'stimulating', 'essential', 'oil', 'make', 'morning', 'mint', 'body', 'lotion', 'aromatherapy', 'essential', 'daily', 'beauty', 'ritual', 'sought', 'woman', 'men', 'alike', 'best', 'selling', 'natural', 'mint', 'lotion', 'make', 'perfect', 'gift', 'welcome', 'world', 'archipelago', 'botanical', 'warm', 'candlelight', 'exquisite', 'fragrance', 'soothing', 'product', 'make', 'house', 'home', 'jump', 'start', 'morning', 'gentle', 'boost', 'mother', 'nature', 'naturally', 'invigorating', 'essential', 'oil', 'fresh', 'basil', 'mandarin', 'awaken', 'sens', 'fill', 'shower', 'amazing', 'note', 'citrus', 'mint', 'better', 'way', 'start', 'day'])],\n",
       "      dtype=object)"
      ]
     },
     "execution_count": 18,
     "metadata": {},
     "output_type": "execute_result"
    }
   ],
   "source": [
    "product_data.values"
   ]
  },
  {
   "cell_type": "code",
   "execution_count": 19,
   "metadata": {},
   "outputs": [],
   "source": [
    "ethical_words = ['natural','Bio','Eco-Friendly','Fair-trade','environmental','ethical','nature']\n",
    "def get_ethicalwords(text):\n",
    "#     ethical_words = ['natural','Bio','Eco-Friendly','Fair-trade','environmental','ethical']\n",
    "    for i in range(len(product_data)):\n",
    "        for j in range(len(product_data[i])):\n",
    "            new_list = [w for w in text if w in ethical_words]\n",
    "#         print(new_list)\n",
    "        break\n",
    "    return new_list"
   ]
  },
  {
   "cell_type": "code",
   "execution_count": 20,
   "metadata": {},
   "outputs": [],
   "source": [
    "# for i in range(len(product_data)):\n",
    "#         for j in range(len(product_data[i])):\n",
    "#             print(product_data[i][j], end=' ')\n",
    "#         print()"
   ]
  },
  {
   "cell_type": "code",
   "execution_count": 21,
   "metadata": {},
   "outputs": [
    {
     "name": "stdout",
     "output_type": "stream",
     "text": [
      "Product data without stop_words 0         [environmental, natural, botanical, natural]\n",
      "1                                                   []\n",
      "2                                            [natural]\n",
      "3                                 [botanical, natural]\n",
      "4    [natural, botanical, natural, natural, natural...\n",
      "5                                                   []\n",
      "6                                            [natural]\n",
      "7                                                   []\n",
      "8                                            [natural]\n",
      "9                         [natural, botanical, nature]\n",
      "Name: description, dtype: object\n"
     ]
    }
   ],
   "source": [
    "new_data = product_data.apply(lambda x: get_ethicalwords(x))\n",
    "print(\"Product data without stop_words\", new_data)"
   ]
  },
  {
   "cell_type": "code",
   "execution_count": 22,
   "metadata": {},
   "outputs": [],
   "source": [
    "# def unique(text): \n",
    "      \n",
    "#     # insert the list to the set \n",
    "#     list_set = set(text) \n",
    "#     # convert the set to the list \n",
    "#     unique_list = (list(list_set))  \n",
    "#     return unique_list"
   ]
  },
  {
   "cell_type": "code",
   "execution_count": 23,
   "metadata": {},
   "outputs": [
    {
     "name": "stdout",
     "output_type": "stream",
     "text": [
      "['environmental', 'natural', 'botanical']\n",
      "4\n",
      "['environmental', 'natural', 'botanical']\n",
      "4\n",
      "['environmental', 'natural', 'botanical']\n",
      "4\n",
      "['environmental', 'natural', 'botanical']\n",
      "4\n",
      "['natural']\n",
      "1\n",
      "['botanical', 'natural']\n",
      "2\n",
      "['botanical', 'natural']\n",
      "2\n",
      "['natural', 'botanical']\n",
      "2\n",
      "['natural', 'botanical']\n",
      "2\n",
      "['natural', 'botanical']\n",
      "2\n",
      "['natural', 'botanical']\n",
      "2\n",
      "['natural', 'botanical']\n",
      "2\n",
      "['natural', 'botanical']\n",
      "2\n",
      "['natural', 'botanical']\n",
      "2\n",
      "['natural']\n",
      "1\n",
      "['natural']\n",
      "1\n",
      "['natural', 'botanical', 'nature']\n",
      "4\n",
      "['natural', 'botanical', 'nature']\n",
      "4\n",
      "['natural', 'botanical', 'nature']\n",
      "4\n"
     ]
    }
   ],
   "source": [
    "rating = 0\n",
    "for i in range(len(new_data)):\n",
    "        for j in range(len(new_data[i])):\n",
    "            new_data[i] = list(dict.fromkeys(new_data[i]))\n",
    "            print(new_data[i])\n",
    "            rating = ((len(new_data[i])/ len(ethical_words))*10)\n",
    "            print(round(rating))\n",
    "# new_data = list(dict.fromkeys(new_data))"
   ]
  },
  {
   "cell_type": "code",
   "execution_count": 24,
   "metadata": {},
   "outputs": [
    {
     "data": {
      "text/plain": [
       "0    [environmental, natural, botanical]\n",
       "1                                     []\n",
       "2                              [natural]\n",
       "3                   [botanical, natural]\n",
       "4                   [natural, botanical]\n",
       "5                                     []\n",
       "6                              [natural]\n",
       "7                                     []\n",
       "8                              [natural]\n",
       "9           [natural, botanical, nature]\n",
       "Name: description, dtype: object"
      ]
     },
     "execution_count": 24,
     "metadata": {},
     "output_type": "execute_result"
    }
   ],
   "source": [
    "new_data"
   ]
  },
  {
   "cell_type": "code",
   "execution_count": null,
   "metadata": {},
   "outputs": [],
   "source": []
  }
 ],
 "metadata": {
  "kernelspec": {
   "display_name": "Python 3",
   "language": "python",
   "name": "python3"
  },
  "language_info": {
   "codemirror_mode": {
    "name": "ipython",
    "version": 3
   },
   "file_extension": ".py",
   "mimetype": "text/x-python",
   "name": "python",
   "nbconvert_exporter": "python",
   "pygments_lexer": "ipython3",
   "version": "3.7.3"
  }
 },
 "nbformat": 4,
 "nbformat_minor": 2
}
