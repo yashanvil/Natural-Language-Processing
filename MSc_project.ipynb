{
 "cells": [
  {
   "cell_type": "code",
   "execution_count": 48,
   "metadata": {},
   "outputs": [],
   "source": [
    "import pandas as pd\n",
    "import nltk\n",
    "import string\n",
    "import json\n",
    "import math\n",
    "from bs4 import BeautifulSoup\n",
    "from nltk.corpus import stopwords\n",
    "from nltk.tokenize import RegexpTokenizer\n",
    "from nltk.stem import WordNetLemmatizer\n",
    "from nltk.stem.porter import PorterStemmer\n",
    "from nltk.probability import FreqDist"
   ]
  },
  {
   "cell_type": "code",
   "execution_count": 71,
   "metadata": {},
   "outputs": [],
   "source": [
    "path = '/Users/yashmehta/Documents/MSc_project/Code/test.json'\n",
    "df = pd.read_json(path, lines=True, orient='records')"
   ]
  },
  {
   "cell_type": "code",
   "execution_count": 72,
   "metadata": {},
   "outputs": [
    {
     "data": {
      "text/plain": [
       "0     [After a long day of handling thorny situation...\n",
       "1     [If you haven't experienced the pleasures of b...\n",
       "2     [Rich, black mineral mud, harvested from the b...\n",
       "3     [This liquid soap with convenient pump dispens...\n",
       "4     [Remember why you love your favorite blanket? ...\n",
       "5     [Winter, summer, spring or fall, this soothing...\n",
       "6     [Highly concentrated formula created to rejuve...\n",
       "7     [Please note: Due to product improvements, the...\n",
       "8     [Created by Dr. Irwin Smigel, world-renowned \"...\n",
       "9     [Naturally stimulating essential oils make our...\n",
       "10    [After a long day of handling thorny situation...\n",
       "11    [If you haven't experienced the pleasures of b...\n",
       "12    [Rich, black mineral mud, harvested from the b...\n",
       "13    [This liquid soap with convenient pump dispens...\n",
       "14    [Remember why you love your favorite blanket? ...\n",
       "15    [Winter, summer, spring or fall, this soothing...\n",
       "16    [Highly concentrated formula created to rejuve...\n",
       "17    [Please note: Due to product improvements, the...\n",
       "18    [Created by Dr. Irwin Smigel, world-renowned \"...\n",
       "19    [Naturally stimulating essential oils make our...\n",
       "20    [Sink your sweet tooth into MILK DUDS Candya d...\n",
       "21    [Sink your sweet tooth into MILK DUDS Candya d...\n",
       "22    [A perfect Lentil soup starts with Goya Lentil...\n",
       "23    [Saran Premium Wrap is an extra tough yet easy...\n",
       "24    [200 sq ft (285 ft x 11-3/4 in x 18.6 m2). Eas...\n",
       "25                        [Ibarra Chocolate, 19 Oz, , ]\n",
       "26    [Knorr Granulated Chicken Flavor Bouillon is a...\n",
       "27    [Red chili habanero sauces. They are present t...\n",
       "28    [Chicken of the Sea Solid White Albacore Tuna ...\n",
       "29    [Helps build muscles with bcaa's amino acids, ...\n",
       "0     Crabtree & Evelyn - Gardener's Ultra-Moisturis...\n",
       "1                                      AHAVA Bath Salts\n",
       "2         AHAVA Dead Sea Mineral Mud, 8.5 oz, Pack of 4\n",
       "3     Crabtree & Evelyn Hand Soap, Gardeners, 10.1 f...\n",
       "4                                    Soy Milk Hand Crme\n",
       "5     AHAVA Dermud Enriched Intensive Foot Cream, 4....\n",
       "6     AHAVA Dermud Intensive Nourishing Hand Cream, ...\n",
       "7                        Supersmile Powdered Mouthrinse\n",
       "8     Supersmile Professional Teeth Whitening Toothp...\n",
       "9        Archipelago Morning Mint Body Lotion ,18 Fl Oz\n",
       "10    Crabtree & Evelyn - Gardener's Ultra-Moisturis...\n",
       "11                                     AHAVA Bath Salts\n",
       "12        AHAVA Dead Sea Mineral Mud, 8.5 oz, Pack of 4\n",
       "13    Crabtree & Evelyn Hand Soap, Gardeners, 10.1 f...\n",
       "14                                   Soy Milk Hand Crme\n",
       "15    AHAVA Dermud Enriched Intensive Foot Cream, 4....\n",
       "16    AHAVA Dermud Intensive Nourishing Hand Cream, ...\n",
       "17                       Supersmile Powdered Mouthrinse\n",
       "18    Supersmile Professional Teeth Whitening Toothp...\n",
       "19       Archipelago Morning Mint Body Lotion ,18 Fl Oz\n",
       "20    HERSHEY'S Milk Duds Candy, 5 Ounce(Halloween C...\n",
       "21    HERSHEY'S Milk Duds Candy, 5 Ounce(Halloween C...\n",
       "22                              Goya Dry Lentils, 16 oz\n",
       "23                Saran Premium Plastic Wrap, 100 Sq Ft\n",
       "24             Saran Cling Plus Plastic Wrap, 200 Sq Ft\n",
       "25                      Ibarra Mexican Chocolate, 19 oz\n",
       "26           Knorr Granulated Bouillon, Chicken 15.9 oz\n",
       "27                Castillo Habanero Hot Sauce Red, 5 oz\n",
       "28    Chicken of the Sea, Solid White Albacore Tuna ...\n",
       "29                   Smucker's Concord Grape Jam, 32 oz\n",
       "dtype: object"
      ]
     },
     "execution_count": 72,
     "metadata": {},
     "output_type": "execute_result"
    }
   ],
   "source": [
    "product_data = df['description']\n",
    "title_data = df['title']\n",
    "\n",
    "\n",
    "product_data.append(title_data)\n",
    "\n",
    "# for i in range(len(product_data)):\n",
    "#         for j in range(len(product_data[i])):\n",
    "#             print(product_data[i])\n"
   ]
  },
  {
   "cell_type": "code",
   "execution_count": 73,
   "metadata": {},
   "outputs": [],
   "source": [
    "# green_words = [\"long\", \"green\", \"organic\", \"recyclable\", \"naturally\"]\n",
    "# for word in green_words:\n",
    "#     if word in product_data[]:\n",
    "#         print(word)"
   ]
  },
  {
   "cell_type": "code",
   "execution_count": 74,
   "metadata": {},
   "outputs": [],
   "source": [
    "def remove_html(text):\n",
    "    # print(\"Text data type:\", type(text[1]))\n",
    "    test_list = []\n",
    "    for i in text:\n",
    "        soup_text = BeautifulSoup(i, 'lxml').text\n",
    "        test_list.append(soup_text)\n",
    "        # print(test_list)\n",
    "    # print(\"Test data content:\", test_list)\n",
    "    return test_list"
   ]
  },
  {
   "cell_type": "code",
   "execution_count": 75,
   "metadata": {},
   "outputs": [],
   "source": [
    "def remove_punctuation(text):\n",
    "    no_punctuation = \"\".join([line for line in text if line not in string.punctuation])\n",
    "    return no_punctuation\n"
   ]
  },
  {
   "cell_type": "code",
   "execution_count": 76,
   "metadata": {},
   "outputs": [],
   "source": [
    "def remove_stopwords(text):\n",
    "    stop_words = [w for w in text if w not in stopwords.words('english')]\n",
    "    return stop_words"
   ]
  },
  {
   "cell_type": "code",
   "execution_count": 77,
   "metadata": {},
   "outputs": [
    {
     "name": "stdout",
     "output_type": "stream",
     "text": [
      "0     [After a long day of handling thorny situation...\n",
      "1     [If you haven't experienced the pleasures of b...\n",
      "2     [Rich, black mineral mud, harvested from the b...\n",
      "3     [This liquid soap with convenient pump dispens...\n",
      "4     [Remember why you love your favorite blanket? ...\n",
      "5     [Winter, summer, spring or fall, this soothing...\n",
      "6     [Highly concentrated formula created to rejuve...\n",
      "7     [Please note: Due to product improvements, the...\n",
      "8     [Created by Dr. Irwin Smigel, world-renowned \"...\n",
      "9     [Naturally stimulating essential oils make our...\n",
      "10    [After a long day of handling thorny situation...\n",
      "11    [If you haven't experienced the pleasures of b...\n",
      "12    [Rich, black mineral mud, harvested from the b...\n",
      "13    [This liquid soap with convenient pump dispens...\n",
      "14    [Remember why you love your favorite blanket? ...\n",
      "15    [Winter, summer, spring or fall, this soothing...\n",
      "16    [Highly concentrated formula created to rejuve...\n",
      "17    [Please note: Due to product improvements, the...\n",
      "18    [Created by Dr. Irwin Smigel, world-renowned \"...\n",
      "19    [Naturally stimulating essential oils make our...\n",
      "20    [Sink your sweet tooth into MILK DUDS Candya d...\n",
      "21    [Sink your sweet tooth into MILK DUDS Candya d...\n",
      "22    [A perfect Lentil soup starts with Goya Lentil...\n",
      "23    [Saran Premium Wrap is an extra tough yet easy...\n",
      "24    [200 sq ft (285 ft x 11-3/4 in x 18.6 m2). Eas...\n",
      "25                        [Ibarra Chocolate, 19 Oz, , ]\n",
      "26    [Knorr Granulated Chicken Flavor Bouillon is a...\n",
      "27    [Red chili habanero sauces. They are present t...\n",
      "28    [Chicken of the Sea Solid White Albacore Tuna ...\n",
      "29    [Helps build muscles with bcaa's amino acids, ...\n",
      "Name: description, dtype: object\n"
     ]
    }
   ],
   "source": [
    "product_data = product_data.apply(lambda x: remove_html(x))\n",
    "print(product_data)\n"
   ]
  },
  {
   "cell_type": "code",
   "execution_count": 78,
   "metadata": {},
   "outputs": [
    {
     "name": "stdout",
     "output_type": "stream",
     "text": [
      "0     After a long day of handling thorny situations...\n",
      "1     If you haven't experienced the pleasures of ba...\n",
      "2     Rich, black mineral mud, harvested from the ba...\n",
      "3     This liquid soap with convenient pump dispense...\n",
      "4     Remember why you love your favorite blanket? T...\n",
      "5     Winter, summer, spring or fall, this soothing ...\n",
      "6     Highly concentrated formula created to rejuven...\n",
      "7     Please note: Due to product improvements, the ...\n",
      "8     Created by Dr. Irwin Smigel, world-renowned \"F...\n",
      "9     Naturally stimulating essential oils make our ...\n",
      "10    After a long day of handling thorny situations...\n",
      "11    If you haven't experienced the pleasures of ba...\n",
      "12    Rich, black mineral mud, harvested from the ba...\n",
      "13    This liquid soap with convenient pump dispense...\n",
      "14    Remember why you love your favorite blanket? T...\n",
      "15    Winter, summer, spring or fall, this soothing ...\n",
      "16    Highly concentrated formula created to rejuven...\n",
      "17    Please note: Due to product improvements, the ...\n",
      "18    Created by Dr. Irwin Smigel, world-renowned \"F...\n",
      "19    Naturally stimulating essential oils make our ...\n",
      "20    Sink your sweet tooth into MILK DUDS Candya de...\n",
      "21    Sink your sweet tooth into MILK DUDS Candya de...\n",
      "22    A perfect Lentil soup starts with Goya Lentils...\n",
      "23    Saran Premium Wrap is an extra tough yet easy ...\n",
      "24    200 sq ft (285 ft x 11-3/4 in x 18.6 m2). Easy...\n",
      "25                              Ibarra Chocolate, 19 Oz\n",
      "26    Knorr Granulated Chicken Flavor Bouillon is a ...\n",
      "27    Red chili habanero sauces. They are present to...\n",
      "28    Chicken of the Sea Solid White Albacore Tuna i...\n",
      "29    Helps build muscles with bcaa's amino acids, i...\n",
      "Name: description, dtype: object\n"
     ]
    }
   ],
   "source": [
    "product_data = product_data.apply(lambda x: remove_punctuation(x))\n",
    "print(product_data)"
   ]
  },
  {
   "cell_type": "code",
   "execution_count": 79,
   "metadata": {},
   "outputs": [
    {
     "name": "stdout",
     "output_type": "stream",
     "text": [
      "Product data tokenized 0     [after, a, long, day, of, handling, thorny, si...\n",
      "1     [if, you, haven, t, experienced, the, pleasure...\n",
      "2     [rich, black, mineral, mud, harvested, from, t...\n",
      "3     [this, liquid, soap, with, convenient, pump, d...\n",
      "4     [remember, why, you, love, your, favorite, bla...\n",
      "5     [winter, summer, spring, or, fall, this, sooth...\n",
      "6     [highly, concentrated, formula, created, to, r...\n",
      "7     [please, note, due, to, product, improvements,...\n",
      "8     [created, by, dr, irwin, smigel, world, renown...\n",
      "9     [naturally, stimulating, essential, oils, make...\n",
      "10    [after, a, long, day, of, handling, thorny, si...\n",
      "11    [if, you, haven, t, experienced, the, pleasure...\n",
      "12    [rich, black, mineral, mud, harvested, from, t...\n",
      "13    [this, liquid, soap, with, convenient, pump, d...\n",
      "14    [remember, why, you, love, your, favorite, bla...\n",
      "15    [winter, summer, spring, or, fall, this, sooth...\n",
      "16    [highly, concentrated, formula, created, to, r...\n",
      "17    [please, note, due, to, product, improvements,...\n",
      "18    [created, by, dr, irwin, smigel, world, renown...\n",
      "19    [naturally, stimulating, essential, oils, make...\n",
      "20    [sink, your, sweet, tooth, into, milk, duds, c...\n",
      "21    [sink, your, sweet, tooth, into, milk, duds, c...\n",
      "22    [a, perfect, lentil, soup, starts, with, goya,...\n",
      "23    [saran, premium, wrap, is, an, extra, tough, y...\n",
      "24    [200, sq, ft, 285, ft, x, 11, 3, 4, in, x, 18,...\n",
      "25                          [ibarra, chocolate, 19, oz]\n",
      "26    [knorr, granulated, chicken, flavor, bouillon,...\n",
      "27    [red, chili, habanero, sauces, they, are, pres...\n",
      "28    [chicken, of, the, sea, solid, white, albacore...\n",
      "29    [helps, build, muscles, with, bcaa, s, amino, ...\n",
      "Name: description, dtype: object\n"
     ]
    }
   ],
   "source": [
    "tokenizer = RegexpTokenizer(r'\\w+')\n",
    "product_data = product_data.apply(lambda x: tokenizer.tokenize(x.lower()))\n",
    "print(\"Product data tokenized\", product_data)"
   ]
  },
  {
   "cell_type": "code",
   "execution_count": 80,
   "metadata": {},
   "outputs": [
    {
     "name": "stdout",
     "output_type": "stream",
     "text": [
      "Product data without stop_words 0     [long, day, handling, thorny, situations, new,...\n",
      "1     [experienced, pleasures, bathing, dead, sea, b...\n",
      "2     [rich, black, mineral, mud, harvested, banks, ...\n",
      "3     [liquid, soap, convenient, pump, dispenser, fo...\n",
      "4     [remember, love, favorite, blanket, soft, comf...\n",
      "5     [winter, summer, spring, fall, soothing, foot,...\n",
      "6     [highly, concentrated, formula, created, rejuv...\n",
      "7     [please, note, due, product, improvements, ima...\n",
      "8     [created, dr, irwin, smigel, world, renowned, ...\n",
      "9     [naturally, stimulating, essential, oils, make...\n",
      "10    [long, day, handling, thorny, situations, new,...\n",
      "11    [experienced, pleasures, bathing, dead, sea, b...\n",
      "12    [rich, black, mineral, mud, harvested, banks, ...\n",
      "13    [liquid, soap, convenient, pump, dispenser, fo...\n",
      "14    [remember, love, favorite, blanket, soft, comf...\n",
      "15    [winter, summer, spring, fall, soothing, foot,...\n",
      "16    [highly, concentrated, formula, created, rejuv...\n",
      "17    [please, note, due, product, improvements, ima...\n",
      "18    [created, dr, irwin, smigel, world, renowned, ...\n",
      "19    [naturally, stimulating, essential, oils, make...\n",
      "20    [sink, sweet, tooth, milk, duds, candya, delic...\n",
      "21    [sink, sweet, tooth, milk, duds, candya, delic...\n",
      "22    [perfect, lentil, soup, starts, goya, lentils,...\n",
      "23    [saran, premium, wrap, extra, tough, yet, easy...\n",
      "24    [200, sq, ft, 285, ft, x, 11, 3, 4, x, 18, 6, ...\n",
      "25                          [ibarra, chocolate, 19, oz]\n",
      "26    [knorr, granulated, chicken, flavor, bouillon,...\n",
      "27    [red, chili, habanero, sauces, present, accomp...\n",
      "28    [chicken, sea, solid, white, albacore, tuna, w...\n",
      "29    [helps, build, muscles, bcaa, amino, acids, im...\n",
      "Name: description, dtype: object\n"
     ]
    }
   ],
   "source": [
    "product_data = product_data.apply(lambda x: remove_stopwords(x))\n",
    "print(\"Product data without stop_words\", product_data)"
   ]
  },
  {
   "cell_type": "code",
   "execution_count": 81,
   "metadata": {},
   "outputs": [],
   "source": [
    "lemmatizer = WordNetLemmatizer()\n",
    "def word_lemmatizer(text):\n",
    "    lemmatized_text = [lemmatizer.lemmatize(i) for i in text]\n",
    "    return lemmatized_text\n"
   ]
  },
  {
   "cell_type": "code",
   "execution_count": 82,
   "metadata": {},
   "outputs": [
    {
     "name": "stdout",
     "output_type": "stream",
     "text": [
      "Product data Lemmas\n",
      " 0     [long, day, handling, thorny, situation, new, ...\n",
      "1     [experienced, pleasure, bathing, dead, sea, ba...\n",
      "2     [rich, black, mineral, mud, harvested, bank, d...\n",
      "3     [liquid, soap, convenient, pump, dispenser, fo...\n",
      "4     [remember, love, favorite, blanket, soft, comf...\n",
      "5     [winter, summer, spring, fall, soothing, foot,...\n",
      "6     [highly, concentrated, formula, created, rejuv...\n",
      "7     [please, note, due, product, improvement, imag...\n",
      "8     [created, dr, irwin, smigel, world, renowned, ...\n",
      "9     [naturally, stimulating, essential, oil, make,...\n",
      "10    [long, day, handling, thorny, situation, new, ...\n",
      "11    [experienced, pleasure, bathing, dead, sea, ba...\n",
      "12    [rich, black, mineral, mud, harvested, bank, d...\n",
      "13    [liquid, soap, convenient, pump, dispenser, fo...\n",
      "14    [remember, love, favorite, blanket, soft, comf...\n",
      "15    [winter, summer, spring, fall, soothing, foot,...\n",
      "16    [highly, concentrated, formula, created, rejuv...\n",
      "17    [please, note, due, product, improvement, imag...\n",
      "18    [created, dr, irwin, smigel, world, renowned, ...\n",
      "19    [naturally, stimulating, essential, oil, make,...\n",
      "20    [sink, sweet, tooth, milk, dud, candya, delici...\n",
      "21    [sink, sweet, tooth, milk, dud, candya, delici...\n",
      "22    [perfect, lentil, soup, start, goya, lentil, t...\n",
      "23    [saran, premium, wrap, extra, tough, yet, easy...\n",
      "24    [200, sq, ft, 285, ft, x, 11, 3, 4, x, 18, 6, ...\n",
      "25                          [ibarra, chocolate, 19, oz]\n",
      "26    [knorr, granulated, chicken, flavor, bouillon,...\n",
      "27    [red, chili, habanero, sauce, present, accompa...\n",
      "28    [chicken, sea, solid, white, albacore, tuna, w...\n",
      "29    [help, build, muscle, bcaa, amino, acid, impro...\n",
      "Name: description, dtype: object\n",
      "<class 'pandas.core.series.Series'>\n"
     ]
    }
   ],
   "source": [
    "product_data = product_data.apply(lambda x: word_lemmatizer(x))\n",
    "print(\"Product data Lemmas\\n\", product_data)\n",
    "print(type(product_data))\n"
   ]
  },
  {
   "cell_type": "code",
   "execution_count": 83,
   "metadata": {},
   "outputs": [],
   "source": [
    "# stemmer = PorterStemmer()"
   ]
  },
  {
   "cell_type": "code",
   "execution_count": 84,
   "metadata": {},
   "outputs": [],
   "source": [
    " # def word_stemmer(text):\n",
    "#     stem_text = \" \".join([stemmer.stem(i) for i in text])\n",
    "#     return stem_text"
   ]
  },
  {
   "cell_type": "code",
   "execution_count": 85,
   "metadata": {},
   "outputs": [],
   "source": [
    "# product_data = product_data.apply(lambda x: word_stemmer(x))"
   ]
  },
  {
   "cell_type": "code",
   "execution_count": 86,
   "metadata": {},
   "outputs": [
    {
     "data": {
      "text/plain": [
       "array([list(['long', 'day', 'handling', 'thorny', 'situation', 'new', 'hand', 'therapy', 'pump', 'help', 'need', 'contains', 'shea', 'butter', 'well', 'extract', 'yarrow', 'clover', 'calendula', 'help', 'soothe', 'condition', 'work', 'roughened', 'hand', 'crabtree', 'evelynthe', 'aromatic', 'benefit', 'herb', 'varied', 'far', 'reaching', 'combined', 'whole', 'bunch', 'one', 'restoratively', 'fragrant', 'line', 'straight', 'garden', 'formulated', 'gardener', 'hand', 'therapy', 'myrrh', 'extract', 'help', 'condition', 'nail', 'cuticle', 'well', 'skin', 'super', 'hydrators', 'macadamia', 'seed', 'oil', 'shea', 'butter', 'help', 'replenish', 'lost', 'moisture', 'rich', 'herbal', 'extract', 'like', 'cooling', 'cucumber', 'rosemary', 'leaf', 'favourite', 'antioxidant', 'help', 'protect', 'hand', 'daily', 'urban', 'environmental', 'stress', 'hydrating', 'power', 'vitamin', 'e', 'hyaluronic', 'acid', 'ceramides', 'contribute', 'improve', 'skin', 'natural', 'moisture', 'barrier', 'garden', 'inspired', 'treatment', 'skin', 'left', 'silky', 'soft', 'delicately', 'scented', 'use', 'dab', 'pea', 'sized', 'amount', 'palm', 'work', 'skin', 'nail', 'combine', 'gardener', 'hand', 'wash', 'hand', 'scrub', 'get', 'silky', 'skin', 'three', 'herb', 'infused', 'step', 'originally', 'created', 'appeal', 'horticulturist', 'wealth', 'knowledge', 'healing', 'power', 'herb', 'botanical', 'range', 'formulated', 'cleansing', 'cucumber', 'extract', 'purifying', 'rosemary', 'extract', 'oak', 'moss', 'refreshing', 'sage', 'extract', 'search', 'world', 'natural', 'ingredient', 'fragrance', 'journey', 'enable', 'customer', 'live', 'life', 'cultivated', 'inspired', 'crabapple', 'tree', 'original', 'specie', 'cultivated', 'apple', 'tree', 'derived', 'john', 'evelyn', '17th', 'century', 'renaissance', 'englishman', 'whose', 'motto', 'explore', 'everything', 'keep', 'best', 'provided', 'inspiration', 'founding', 'day']),\n",
       "       list(['experienced', 'pleasure', 'bathing', 'dead', 'sea', 'bath', 'crystal', 'next', 'best', 'thing', 'rich', 'health', 'inducing', 'mineral', 'including', 'magnesium', 'calcium', 'sodium', 'potassium', 'soothe', 'body', 'relaxation', 'easing', 'muscle', 'tension', 'softening', 'skin', 'immerse', 'water', 'well']),\n",
       "       list(['rich', 'black', 'mineral', 'mud', 'harvested', 'bank', 'dead', 'sea', 'comprised', 'layer', 'upon', 'layer', 'sedimentary', 'clay', 'formed', 'thousand', 'year', 'captured', 'within', 'extremely', 'high', 'concentration', 'mineral', 'scientifically', 'proven', 'essential', 'maintaining', 'healthy', 'skin', 'ahava', 'black', 'mineral', 'mud', 'work', 'deep', 'clean', 'purify', 'restore', 'skin', 'natural', 'moisture', 'balance', 'leaving', 'smooth', 'radiant', 'revitalized']),\n",
       "       list(['liquid', 'soap', 'convenient', 'pump', 'dispenser', 'formulated', 'conditioning', 'extract', 'sage', 'rosemary', 'alfalfa', 'carrot', 'cucumber', 'deodorizes', 'skin', 'leaf', 'refreshed', 'clean', 'herbal', 'scent', 'watched', 'favorite', 'gardener', 'spend', 'hour', 'lovingly', 'pampering', 'plant', 'doting', 'weekend', 'tulip', 'carrot', 'tomato', 'last', 'time', 'doted', 'crabtree', 'evelyn', 'come', 'rescue', 'gardener', 'hand', 'everywhere', 'line', 'lavish', 'skin', 'care', 'product', 'hand', 'soap', 'made', 'vegetable', 'base', 'blend', 'feature', 'sage', 'alfalfa', 'cucumber', 'extract', 'packaged', 'handy', 'metal', 'pump', 'dispenser', 'formulated', 'gentle', 'gardener', 'hand', 'pampering', 'long', 'day', 'dirt', 'combine', 'crabtree', 'evelyn', 'accessory', 'like', 'gardener', 'hand', 'therapy', 'skin', 'remedy', 'fantastic', 'gift', 'set', 'indulge', 'favorite', 'gardener', 'well', 'deserved', 'treat', 'ariel', 'meadow', 'stallingsthe', 'aromatic', 'benefit', 'herb', 'varied', 'far', 'reaching', 'combined', 'whole', 'bunch', 'one', 'restoratively', 'fragrant', 'line', 'straight', 'garden', 'cleansing', 'fragrant', 'hand', 'wash', 'power', 'transport', 'away', 'city', 'straight', 'countryside', 'thanks', 'heady', 'mix', 'herbal', 'heavyweight', 'clarifying', 'cucumber', 'antioxidant', 'rich', 'rosemary', 'leaf', 'soothing', 'aloe', 'leaf', 'juice', 'hand', 'cleansed', 'revived', 'freshest', 'scent', 'like', 'restorative', 'tonic', 'gardener', 'hand', 'soap', 'mild', 'gentle', 'leave', 'petal', 'soft', 'hand', 'use', 'thoroughly', 'cleansed', 'silky', 'soft', 'hand', 'dab', 'pea', 'sized', 'amount', 'soap', 'onto', 'skin', 'lather', 'well', 'warm', 'water', 'rinse', 'pat', 'dry', 'combine', 'hand', 'wash', 'exfoliating', 'hand', 'scrub', 'moisturising', 'hand', 'therapy', 'ultimate', 'ritual', 'originally', 'created', 'appeal', 'horticulturist', 'wealth', 'knowledge', 'healing', 'power', 'herb', 'botanical', 'range', 'formulated', 'cleansing', 'cucumber', 'extract', 'purifying', 'rosemary', 'extract', 'oak', 'moss', 'refreshing', 'sage', 'extract', 'search', 'world', 'natural', 'ingredient', 'fragrance', 'journey', 'enable', 'customer', 'live', 'life', 'cultivated', 'inspired', 'crabapple', 'tree', 'original', 'specie', 'cultivated', 'apple', 'tree', 'derived', 'john', 'evelyn', '17th', 'century', 'renaissance', 'englishman', 'whose', 'motto', 'explore', 'everything', 'keep', 'best', 'provided', 'inspiration', 'founding', 'day']),\n",
       "       list(['remember', 'love', 'favorite', 'blanket', 'soft', 'comforting', 'feeling', 'wrapping', 'around', 'shoulder', 'give', 'instant', 'happiness', 'hug', 'hand', 'deserve', 'love', 'every', 'application', 'soy', 'extract', 'blended', 'dried', 'milk', 'solid', 'whipped', 'perfection', 'greets', 'hand', 'loving', 'hydration', 'favorite', 'among', 'nutrition', 'expert', 'soy', 'extract', 'primary', 'ingredient', 'soy', 'milk', 'hand', 'crme', 'protein', 'amino', 'acid', 'lipid', 'high', 'powered', 'bean', 'allow', 'rapid', 'hydration', 'skin', 'regeneration', 'natural', 'jojoba', 'ester', 'premium', 'ingredient', 'added', 'allow', 'cream', 'go', 'smoothly', 'without', 'greasy', 'feel', 'final', 'result', 'distinctive', 'cream', 'love', 'first', 'time', 'applied', 'welcome', 'world', 'archipelago', 'botanical', 'warm', 'candlelight', 'exquisite', 'fragrance', 'soothing', 'product', 'make', 'house', 'home', 'beautician', 'favorite', 'collection', 'feature', 'dried', 'milk', 'solid', 'natural', 'protein', 'gently', 'nurture', 'soothe', 'skin', 'leaving', 'naturally', 'soft', 'supple', 'available', 'soy', 'oat', 'protein', 'combination', 'blend', 'two', 'soy', 'protein', 'make', 'perfect', 'additive', 'skin', 'amino', 'acid', 'lipid', 'found', 'high', 'powered', 'bean', 'allow', 'rapid', 'cell', 'rehydration', 'regeneration', 'soy', 'lotion', 'blended', 'dried', 'milk', 'solid', 'keep', 'skin', 'looking', 'feeling', 'soft', 'supple', 'natural', 'jojoba', 'ester', 'premium', 'ingredient', 'added', 'allow', 'lotion', 'go', 'smoothly', 'without', 'greasy', 'feel', 'final', 'result', 'distinctive', 'lotion', 'youll', 'appreciate', 'first', 'time', 'touch', 'skin', 'gentle', 'oat', 'protein', 'perfect', 'solution', 'dry', 'skin', 'oat', 'lotion', 'blended', 'dried', 'milk', 'solid', 'keep', 'skin', 'looking', 'feeling', 'soft', 'supple', 'natural', 'jojoba', 'ester', 'premium', 'ingredient', 'added', 'allow', 'lotion', 'go', 'smoothly', 'without', 'leaving', 'greasy', 'feel', 'final', 'result', 'distinctive', 'lotion', 'love', 'first', 'time', 'applied', 'protein', 'amino', 'acid', 'lipid', 'high', 'powered', 'bean', 'allow', 'rapid', 'hydration', 'skin', 'regeneration', 'hand', 'cream', 'blended', 'dried', 'milk', 'solid', 'keep', 'hand', 'looking', 'feeling', 'soft', 'supple', 'irresistibly', 'scented', 'hand', 'treatment', 'highly', 'recommended', 'part', 'daily', 'skin', 'care', 'routine', 'beautiful', 'soft', 'hand', 'oat', 'milk', 'hand', 'crme', 'perfect', 'dry', 'chapped', 'hand', 'gentle', 'oat', 'protein', 'mixed', 'aloe', 'resulting', 'one', 'best', 'moisturizing', 'formulation', 'market', 'milk', 'hand', 'wash', 'perfect', 'soap', 'keep', 'hand', 'looking', 'healthy', 'clean', 'dried', 'milk', 'solid', 'natural', 'soy', 'oat', 'rice', 'protein', 'combine', 'create', 'distinctive', 'hand', 'wash', 'love', 'first', 'time', 'use', 'apply', 'liberally', 'work', 'robust', 'lather', 'rinse', 'gentle', 'enough', 'everyday', 'use', 'begin', 'daily', 'beauty', 'routine', 'gentle', 'foaming', 'cleanser', 'one', 'archipelago', 'botanical', 'aromatherapy', 'bath', 'body', 'collection', 'moisturizing', 'body', 'wash', 'highly', 'recommended', 'dry', 'skin', 'also', 'available', 'larger', '33', 'oz', 'bottle']),\n",
       "       list(['winter', 'summer', 'spring', 'fall', 'soothing', 'foot', 'cream', 'act', 'deeply', 'alleviate', 'itchiness', 'redness', 'scaling', 'dry', 'foot', 'dermud', 'special', 'blend', 'dead', 'sea', 'mud', 'mineral', 'plant', 'derivative', 'moisturizes', 'soothes', 'repair', 'restoring', 'youthful', 'vitality', 'foot']),\n",
       "       list(['highly', 'concentrated', 'formula', 'created', 'rejuvenate', 'even', 'driest', 'skin', 'grease', 'free', 'blend', 'mineral', 'enriched', 'mud', 'mineral', 'skin', 'osmoter', 'complex', 'assorted', 'natural', 'essence', 'work', 'deep', 'relieve', 'itchiness', 'redness', 'scaling', 'stimulates', 'skin', 'moisturizing', 'action']),\n",
       "       list(['please', 'note', 'due', 'product', 'improvement', 'image', 'shown', 'may', 'temporarily', 'appear', 'different', 'product', 'received', 'leaf', 'teeth', 'cleaned', 'breath', 'fresh', 'add', 'water', 'instantly', 'rinse', 'away', 'stain', 'odor', 'germ', 'plaque', 'supersmile', 'mouthrinse', 'meant', 'used', 'anytime', 'cannot', 'brush', 'meeting', 'meal', 'date', 'plane', 'inquiry', 'visit', 'website', 'supersmileusa', 'com', 'call', '1', '800', '784', 'smile']),\n",
       "       list(['created', 'dr', 'irwin', 'smigel', 'world', 'renowned', 'father', 'aesthetic', 'dentistry', 'contains', 'unprecedented', 'science', 'behind', 'supersmile', 'calprox', 'proprietary', 'formula', 'encapsulated', 'calcium', 'peroxide', 'mineral', 'calprox', 'gently', 'effectively', 'remove', 'sticky', 'bio', 'film', 'teeth', 'plaque', 'bacteria', 'stain', 'adhere', 'without', 'risk', 'sensitivity', 'clinically', 'shown', 'whiten', 'teeth', '6', 'shade', 'used', 'professional', 'whitening', 'accelerator', 'inhibits', 'plaque', '10x', 'better', 'leading', 'plaque', 'removing', 'toothpaste', '75', 'le', 'abrasive', 'limit', 'set', 'ada', 'best', 'selling', 'formula', 'safely', 'effectively', 'lift', 'surface', 'stain', 'coffee', 'tea', 'tobacco', 'red', 'wine', 'without', 'harsh', 'abrasive', 'contains', 'calcium', 'magnesium', 'phosphate', 'fluoride', 'remineralize', 'restore', 'enamel', 'fight', 'cavity', 'restores', 'bonded', 'teeth', 'veneer', 'cap', 'denture', 'original', 'shade', 'brush', 'whiten', 'free', 'silica', 'parabens', 'sulfate', 'known', 'allergen', 'animal', 'product', 'bpa', 'also', 'kosherhailed', '1', 'whitening', 'system', 'recommended', 'cosmetic', 'dentist', 'supersmile', 'world', 'renowned', 'unparalleled', 'ability', 'safely', 'whiten', 'also', 'cleaning', 'protecting', 'strengthening', 'teeth', 'since', 'revolutionizing', 'industry', 'dr', 'irwin', 'smigel', 'supersmile', 'forefront', 'every', 'major', 'innovation', 'dentistry', 'earning', 'dr', 'smigel', 'permanent', 'exhibition', 'achievement', 'national', 'museum', 'dentistry', 'acknowledged', 'new', 'york', 'university', 'college', 'dentistry', 'celebrated', 'peer', 'internationally', 'father', 'aesthetic', 'dentistry', 'dr', 'irwin', 'smigel', 'founder', 'former', 'president', 'american', 'society', 'dental', 'aesthetic', 'diplomat', 'american', 'board', 'aesthetic', 'dentistry', 'creator', 'international', 'spokesperson', 'supersmile', 'frequently', 'asked', 'questionsq', 'calprox', 'calprox', 'unprecedented', 'science', 'behind', 'supersmile', 'proprietary', 'technology', 'encapsulated', 'calcium', 'peroxide', 'mineral', 'calprox', 'work', 'gently', 'effectively', 'dissolving', 'sticky', 'bio', 'film', 'teeth', 'plaque', 'bacteria', 'stain', 'coffee', 'tea', 'tobacco', 'red', 'wine', 'anything', 'stain', 'white', 'shirt', 'adhere', 'dissolving', 'bio', 'film', 'calprox', 'remove', 'stain', 'remineralizes', 'enamel', 'without', 'risk', 'sensitivity', 'proprietary', 'formula', 'leaf', 'teeth', 'whiter', 'feeling', 'cleaner', 'healthier', 'q', 'calprox', 'safe', 'dental', 'work', 'study', 'proven', 'calprox', 'safe', 'water', 'dental', 'work', 'many', 'toothpaste', 'use', 'silica', 'abrasive', 'sand', 'like', 'material', 'whiten', 'teeth', 'scratching', 'away', 'surface', 'stain', 'silica', 'highly', 'abrasive', 'time', 'thin', 'enamel', 'thin', 'enamel', 'cause', 'sensitivity', 'may', 'lead', 'serious', 'oral', 'problem', 'well', 'causing', 'teeth', 'look', 'yellow', 'calprox', 'allows', 'safe', 'whitening', 'risk', 'sensitivity', 'calprox', 'contains', 'mineral', 'calcium', 'magnesium', 'phosphate', 'combined', 'fluoride', 'remineralizes', 'restores', 'enamel', 'calprox', 'found', 'almost', 'supersmile', 'product', 'proudly', 'free', 'silica', 'parabens', 'sulfate', 'known', 'allergen', 'animal', 'product', 'triclosan', 'microbeads', 'polyethylene', 'bpa', 'q', 'supersmile', 'product', 'work', 'type', 'teeth', 'supersmile', 'work', 'type', 'teeth', 'including', 'natural', 'teeth', 'veneer', 'crown', 'bonding', 'even', 'denture', 'supersmile', 'also', 'great', 'use', 'orthodontic', 'work', 'brace', 'invisalign', 'q', 'eat', 'right', 'finish', 'brushing', 'yes', 'eat', 'right', 'brushing', 'get', 'rid', 'daily', 'build', 'make', 'sure', 'last', 'thing', 'going', 'bed', 'brush', 'teeth', 'q', 'whitening', 'toothpaste', 'go', 'dry', 'toothbrush', 'whitening', 'toothpaste', 'best', 'used', 'dry', 'toothbrush', 'calprox', 'formula', 'reacts', 'water', 'ideally', 'reaction', 'begin', 'saliva', 'mouth', 'water', 'toothbrush', 'q', 'recommended', 'time', 'used', 'brushing', 'recommend', 'brush', 'teeth', 'least', '2', 'minute', 'morning', '2', 'minute', 'night', 'right', 'going', 'bed', 'extremely', 'important', 'brush', 'night', 'day', 'swallow', '20', '000', 'time', 'drink', 'talk', 'contribute', 'quantity', 'saliva', 'mouth', 'produce', 'night', 'however', 'swallow', '20', 'time', 'allowing', 'plaque', 'bacteria', 'form', 'uninterrupted', 'plaque', 'remains', 'teeth', 'hour', 'turn', 'bacterial', 'thus', 'contributing', 'plaque', 'buildup', 'morning', 'breath', 'q', 'advantage', 'using', 'supersmile', 'product', 'opposed', 'whitening', 'product', 'supersmiles', 'professional', 'whitening', 'toothpaste', 'recommended', 'cosmetic', 'dentist', 'worldwide', 'clinically', 'proven', 'whiten', 'teeth', '4', 'shade', '6', 'shade', 'used', 'supersmile', 'whitening', 'accelerator', 'supersmile', 'professional', 'whitening', 'toothpaste', 'remineralizes', 'teeth', 'calcium', 'magnesium', 'phosphate', 'fluoride', 'restore', 'enamel', 'fight', 'cavity', 'simply', 'put', 'convenient', 'healthy', 'way', 'powerfully', 'whiten', 'teeth', 'without', 'sensitivity', 'messy', 'strip', 'tray', 'change', 'lifestyle', 'continue', 'enjoy', 'favorite', 'food', 'beverage', 'also', 'uniquely', 'work', 'well', 'restore', 'dental', 'restoration', 'original', 'shade', 'including', 'bonded', 'teeth', 'veneer', 'cap', 'denture', 'harsh', 'sensitivity', 'causing', 'bleach', 'dehydrate', 'enamel', 'free', 'sl', 'parabens', 'known', 'allergen', 'animal', 'product', 'bpa', 'q', 'long', 'take', 'see', 'result', 'people', 'may', 'see', 'result', 'one', 'brushing', 'take', 'little', 'longer', 'people', 'see', 'result', 'day', 'use', 'directed', 'process', 'continuous', 'one', 'please', 'remember', 'lot', 'factor', 'go', 'long', 'process', 'take', 'age', 'medication', 'eating', 'habit', 'dental', 'work', 'etc', 'addition', 'depends', 'stain', 'long', 'deeply', 'rooted', 'enamel', 'positive', 'result', 'vary', 'however', 'change', 'eating', 'habit', 'eat', 'drink', 'usual', 'continuous', 'brushing', 'continue', 'remove', 'stain', 'whiten']),\n",
       "       list(['naturally', 'stimulating', 'essential', 'oil', 'make', 'morning', 'mint', 'body', 'lotion', 'aromatherapy', 'essential', 'daily', 'beauty', 'ritual', 'sought', 'woman', 'men', 'alike', 'best', 'selling', 'natural', 'mint', 'lotion', 'make', 'perfect', 'gift', 'welcome', 'world', 'archipelago', 'botanical', 'warm', 'candlelight', 'exquisite', 'fragrance', 'soothing', 'product', 'make', 'house', 'home', 'jump', 'start', 'morning', 'gentle', 'boost', 'mother', 'nature', 'naturally', 'invigorating', 'essential', 'oil', 'fresh', 'basil', 'mandarin', 'awaken', 'sens', 'fill', 'shower', 'amazing', 'note', 'citrus', 'mint', 'better', 'way', 'start', 'day']),\n",
       "       list(['long', 'day', 'handling', 'thorny', 'situation', 'new', 'hand', 'therapy', 'pump', 'help', 'need', 'contains', 'shea', 'butter', 'well', 'extract', 'yarrow', 'clover', 'calendula', 'help', 'soothe', 'condition', 'work', 'roughened', 'hand', 'crabtree', 'evelynthe', 'aromatic', 'benefit', 'herb', 'varied', 'far', 'reaching', 'combined', 'whole', 'bunch', 'one', 'restoratively', 'fragrant', 'line', 'straight', 'garden', 'formulated', 'gardener', 'hand', 'therapy', 'myrrh', 'extract', 'help', 'condition', 'nail', 'cuticle', 'well', 'skin', 'super', 'hydrators', 'macadamia', 'seed', 'oil', 'shea', 'butter', 'help', 'replenish', 'lost', 'moisture', 'rich', 'herbal', 'extract', 'like', 'cooling', 'cucumber', 'rosemary', 'leaf', 'favourite', 'antioxidant', 'help', 'protect', 'hand', 'daily', 'urban', 'environmental', 'stress', 'hydrating', 'power', 'vitamin', 'e', 'hyaluronic', 'acid', 'ceramides', 'contribute', 'improve', 'skin', 'natural', 'moisture', 'barrier', 'garden', 'inspired', 'treatment', 'skin', 'left', 'silky', 'soft', 'delicately', 'scented', 'use', 'dab', 'pea', 'sized', 'amount', 'palm', 'work', 'skin', 'nail', 'combine', 'gardener', 'hand', 'wash', 'hand', 'scrub', 'get', 'silky', 'skin', 'three', 'herb', 'infused', 'step', 'originally', 'created', 'appeal', 'horticulturist', 'wealth', 'knowledge', 'healing', 'power', 'herb', 'botanical', 'range', 'formulated', 'cleansing', 'cucumber', 'extract', 'purifying', 'rosemary', 'extract', 'oak', 'moss', 'refreshing', 'sage', 'extract', 'search', 'world', 'natural', 'ingredient', 'fragrance', 'journey', 'enable', 'customer', 'live', 'life', 'cultivated', 'inspired', 'crabapple', 'tree', 'original', 'specie', 'cultivated', 'apple', 'tree', 'derived', 'john', 'evelyn', '17th', 'century', 'renaissance', 'englishman', 'whose', 'motto', 'explore', 'everything', 'keep', 'best', 'provided', 'inspiration', 'founding', 'day']),\n",
       "       list(['experienced', 'pleasure', 'bathing', 'dead', 'sea', 'bath', 'crystal', 'next', 'best', 'thing', 'rich', 'health', 'inducing', 'mineral', 'including', 'magnesium', 'calcium', 'sodium', 'potassium', 'soothe', 'body', 'relaxation', 'easing', 'muscle', 'tension', 'softening', 'skin', 'immerse', 'water', 'well']),\n",
       "       list(['rich', 'black', 'mineral', 'mud', 'harvested', 'bank', 'dead', 'sea', 'comprised', 'layer', 'upon', 'layer', 'sedimentary', 'clay', 'formed', 'thousand', 'year', 'captured', 'within', 'extremely', 'high', 'concentration', 'mineral', 'scientifically', 'proven', 'essential', 'maintaining', 'healthy', 'skin', 'ahava', 'black', 'mineral', 'mud', 'work', 'deep', 'clean', 'purify', 'restore', 'skin', 'natural', 'moisture', 'balance', 'leaving', 'smooth', 'radiant', 'revitalized']),\n",
       "       list(['liquid', 'soap', 'convenient', 'pump', 'dispenser', 'formulated', 'conditioning', 'extract', 'sage', 'rosemary', 'alfalfa', 'carrot', 'cucumber', 'deodorizes', 'skin', 'leaf', 'refreshed', 'clean', 'herbal', 'scent', 'watched', 'favorite', 'gardener', 'spend', 'hour', 'lovingly', 'pampering', 'plant', 'doting', 'weekend', 'tulip', 'carrot', 'tomato', 'last', 'time', 'doted', 'crabtree', 'evelyn', 'come', 'rescue', 'gardener', 'hand', 'everywhere', 'line', 'lavish', 'skin', 'care', 'product', 'hand', 'soap', 'made', 'vegetable', 'base', 'blend', 'feature', 'sage', 'alfalfa', 'cucumber', 'extract', 'packaged', 'handy', 'metal', 'pump', 'dispenser', 'formulated', 'gentle', 'gardener', 'hand', 'pampering', 'long', 'day', 'dirt', 'combine', 'crabtree', 'evelyn', 'accessory', 'like', 'gardener', 'hand', 'therapy', 'skin', 'remedy', 'fantastic', 'gift', 'set', 'indulge', 'favorite', 'gardener', 'well', 'deserved', 'treat', 'ariel', 'meadow', 'stallingsthe', 'aromatic', 'benefit', 'herb', 'varied', 'far', 'reaching', 'combined', 'whole', 'bunch', 'one', 'restoratively', 'fragrant', 'line', 'straight', 'garden', 'cleansing', 'fragrant', 'hand', 'wash', 'power', 'transport', 'away', 'city', 'straight', 'countryside', 'thanks', 'heady', 'mix', 'herbal', 'heavyweight', 'clarifying', 'cucumber', 'antioxidant', 'rich', 'rosemary', 'leaf', 'soothing', 'aloe', 'leaf', 'juice', 'hand', 'cleansed', 'revived', 'freshest', 'scent', 'like', 'restorative', 'tonic', 'gardener', 'hand', 'soap', 'mild', 'gentle', 'leave', 'petal', 'soft', 'hand', 'use', 'thoroughly', 'cleansed', 'silky', 'soft', 'hand', 'dab', 'pea', 'sized', 'amount', 'soap', 'onto', 'skin', 'lather', 'well', 'warm', 'water', 'rinse', 'pat', 'dry', 'combine', 'hand', 'wash', 'exfoliating', 'hand', 'scrub', 'moisturising', 'hand', 'therapy', 'ultimate', 'ritual', 'originally', 'created', 'appeal', 'horticulturist', 'wealth', 'knowledge', 'healing', 'power', 'herb', 'botanical', 'range', 'formulated', 'cleansing', 'cucumber', 'extract', 'purifying', 'rosemary', 'extract', 'oak', 'moss', 'refreshing', 'sage', 'extract', 'search', 'world', 'natural', 'ingredient', 'fragrance', 'journey', 'enable', 'customer', 'live', 'life', 'cultivated', 'inspired', 'crabapple', 'tree', 'original', 'specie', 'cultivated', 'apple', 'tree', 'derived', 'john', 'evelyn', '17th', 'century', 'renaissance', 'englishman', 'whose', 'motto', 'explore', 'everything', 'keep', 'best', 'provided', 'inspiration', 'founding', 'day']),\n",
       "       list(['remember', 'love', 'favorite', 'blanket', 'soft', 'comforting', 'feeling', 'wrapping', 'around', 'shoulder', 'give', 'instant', 'happiness', 'hug', 'hand', 'deserve', 'love', 'every', 'application', 'soy', 'extract', 'blended', 'dried', 'milk', 'solid', 'whipped', 'perfection', 'greets', 'hand', 'loving', 'hydration', 'favorite', 'among', 'nutrition', 'expert', 'soy', 'extract', 'primary', 'ingredient', 'soy', 'milk', 'hand', 'crme', 'protein', 'amino', 'acid', 'lipid', 'high', 'powered', 'bean', 'allow', 'rapid', 'hydration', 'skin', 'regeneration', 'natural', 'jojoba', 'ester', 'premium', 'ingredient', 'added', 'allow', 'cream', 'go', 'smoothly', 'without', 'greasy', 'feel', 'final', 'result', 'distinctive', 'cream', 'love', 'first', 'time', 'applied', 'welcome', 'world', 'archipelago', 'botanical', 'warm', 'candlelight', 'exquisite', 'fragrance', 'soothing', 'product', 'make', 'house', 'home', 'beautician', 'favorite', 'collection', 'feature', 'dried', 'milk', 'solid', 'natural', 'protein', 'gently', 'nurture', 'soothe', 'skin', 'leaving', 'naturally', 'soft', 'supple', 'available', 'soy', 'oat', 'protein', 'combination', 'blend', 'two', 'soy', 'protein', 'make', 'perfect', 'additive', 'skin', 'amino', 'acid', 'lipid', 'found', 'high', 'powered', 'bean', 'allow', 'rapid', 'cell', 'rehydration', 'regeneration', 'soy', 'lotion', 'blended', 'dried', 'milk', 'solid', 'keep', 'skin', 'looking', 'feeling', 'soft', 'supple', 'natural', 'jojoba', 'ester', 'premium', 'ingredient', 'added', 'allow', 'lotion', 'go', 'smoothly', 'without', 'greasy', 'feel', 'final', 'result', 'distinctive', 'lotion', 'youll', 'appreciate', 'first', 'time', 'touch', 'skin', 'gentle', 'oat', 'protein', 'perfect', 'solution', 'dry', 'skin', 'oat', 'lotion', 'blended', 'dried', 'milk', 'solid', 'keep', 'skin', 'looking', 'feeling', 'soft', 'supple', 'natural', 'jojoba', 'ester', 'premium', 'ingredient', 'added', 'allow', 'lotion', 'go', 'smoothly', 'without', 'leaving', 'greasy', 'feel', 'final', 'result', 'distinctive', 'lotion', 'love', 'first', 'time', 'applied', 'protein', 'amino', 'acid', 'lipid', 'high', 'powered', 'bean', 'allow', 'rapid', 'hydration', 'skin', 'regeneration', 'hand', 'cream', 'blended', 'dried', 'milk', 'solid', 'keep', 'hand', 'looking', 'feeling', 'soft', 'supple', 'irresistibly', 'scented', 'hand', 'treatment', 'highly', 'recommended', 'part', 'daily', 'skin', 'care', 'routine', 'beautiful', 'soft', 'hand', 'oat', 'milk', 'hand', 'crme', 'perfect', 'dry', 'chapped', 'hand', 'gentle', 'oat', 'protein', 'mixed', 'aloe', 'resulting', 'one', 'best', 'moisturizing', 'formulation', 'market', 'milk', 'hand', 'wash', 'perfect', 'soap', 'keep', 'hand', 'looking', 'healthy', 'clean', 'dried', 'milk', 'solid', 'natural', 'soy', 'oat', 'rice', 'protein', 'combine', 'create', 'distinctive', 'hand', 'wash', 'love', 'first', 'time', 'use', 'apply', 'liberally', 'work', 'robust', 'lather', 'rinse', 'gentle', 'enough', 'everyday', 'use', 'begin', 'daily', 'beauty', 'routine', 'gentle', 'foaming', 'cleanser', 'one', 'archipelago', 'botanical', 'aromatherapy', 'bath', 'body', 'collection', 'moisturizing', 'body', 'wash', 'highly', 'recommended', 'dry', 'skin', 'also', 'available', 'larger', '33', 'oz', 'bottle']),\n",
       "       list(['winter', 'summer', 'spring', 'fall', 'soothing', 'foot', 'cream', 'act', 'deeply', 'alleviate', 'itchiness', 'redness', 'scaling', 'dry', 'foot', 'dermud', 'special', 'blend', 'dead', 'sea', 'mud', 'mineral', 'plant', 'derivative', 'moisturizes', 'soothes', 'repair', 'restoring', 'youthful', 'vitality', 'foot']),\n",
       "       list(['highly', 'concentrated', 'formula', 'created', 'rejuvenate', 'even', 'driest', 'skin', 'grease', 'free', 'blend', 'mineral', 'enriched', 'mud', 'mineral', 'skin', 'osmoter', 'complex', 'assorted', 'natural', 'essence', 'work', 'deep', 'relieve', 'itchiness', 'redness', 'scaling', 'stimulates', 'skin', 'moisturizing', 'action']),\n",
       "       list(['please', 'note', 'due', 'product', 'improvement', 'image', 'shown', 'may', 'temporarily', 'appear', 'different', 'product', 'received', 'leaf', 'teeth', 'cleaned', 'breath', 'fresh', 'add', 'water', 'instantly', 'rinse', 'away', 'stain', 'odor', 'germ', 'plaque', 'supersmile', 'mouthrinse', 'meant', 'used', 'anytime', 'cannot', 'brush', 'meeting', 'meal', 'date', 'plane', 'inquiry', 'visit', 'website', 'supersmileusa', 'com', 'call', '1', '800', '784', 'smile']),\n",
       "       list(['created', 'dr', 'irwin', 'smigel', 'world', 'renowned', 'father', 'aesthetic', 'dentistry', 'contains', 'unprecedented', 'science', 'behind', 'supersmile', 'calprox', 'proprietary', 'formula', 'encapsulated', 'calcium', 'peroxide', 'mineral', 'calprox', 'gently', 'effectively', 'remove', 'sticky', 'bio', 'film', 'teeth', 'plaque', 'bacteria', 'stain', 'adhere', 'without', 'risk', 'sensitivity', 'clinically', 'shown', 'whiten', 'teeth', '6', 'shade', 'used', 'professional', 'whitening', 'accelerator', 'inhibits', 'plaque', '10x', 'better', 'leading', 'plaque', 'removing', 'toothpaste', '75', 'le', 'abrasive', 'limit', 'set', 'ada', 'best', 'selling', 'formula', 'safely', 'effectively', 'lift', 'surface', 'stain', 'coffee', 'tea', 'tobacco', 'red', 'wine', 'without', 'harsh', 'abrasive', 'contains', 'calcium', 'magnesium', 'phosphate', 'fluoride', 'remineralize', 'restore', 'enamel', 'fight', 'cavity', 'restores', 'bonded', 'teeth', 'veneer', 'cap', 'denture', 'original', 'shade', 'brush', 'whiten', 'free', 'silica', 'parabens', 'sulfate', 'known', 'allergen', 'animal', 'product', 'bpa', 'also', 'kosherhailed', '1', 'whitening', 'system', 'recommended', 'cosmetic', 'dentist', 'supersmile', 'world', 'renowned', 'unparalleled', 'ability', 'safely', 'whiten', 'also', 'cleaning', 'protecting', 'strengthening', 'teeth', 'since', 'revolutionizing', 'industry', 'dr', 'irwin', 'smigel', 'supersmile', 'forefront', 'every', 'major', 'innovation', 'dentistry', 'earning', 'dr', 'smigel', 'permanent', 'exhibition', 'achievement', 'national', 'museum', 'dentistry', 'acknowledged', 'new', 'york', 'university', 'college', 'dentistry', 'celebrated', 'peer', 'internationally', 'father', 'aesthetic', 'dentistry', 'dr', 'irwin', 'smigel', 'founder', 'former', 'president', 'american', 'society', 'dental', 'aesthetic', 'diplomat', 'american', 'board', 'aesthetic', 'dentistry', 'creator', 'international', 'spokesperson', 'supersmile', 'frequently', 'asked', 'questionsq', 'calprox', 'calprox', 'unprecedented', 'science', 'behind', 'supersmile', 'proprietary', 'technology', 'encapsulated', 'calcium', 'peroxide', 'mineral', 'calprox', 'work', 'gently', 'effectively', 'dissolving', 'sticky', 'bio', 'film', 'teeth', 'plaque', 'bacteria', 'stain', 'coffee', 'tea', 'tobacco', 'red', 'wine', 'anything', 'stain', 'white', 'shirt', 'adhere', 'dissolving', 'bio', 'film', 'calprox', 'remove', 'stain', 'remineralizes', 'enamel', 'without', 'risk', 'sensitivity', 'proprietary', 'formula', 'leaf', 'teeth', 'whiter', 'feeling', 'cleaner', 'healthier', 'q', 'calprox', 'safe', 'dental', 'work', 'study', 'proven', 'calprox', 'safe', 'water', 'dental', 'work', 'many', 'toothpaste', 'use', 'silica', 'abrasive', 'sand', 'like', 'material', 'whiten', 'teeth', 'scratching', 'away', 'surface', 'stain', 'silica', 'highly', 'abrasive', 'time', 'thin', 'enamel', 'thin', 'enamel', 'cause', 'sensitivity', 'may', 'lead', 'serious', 'oral', 'problem', 'well', 'causing', 'teeth', 'look', 'yellow', 'calprox', 'allows', 'safe', 'whitening', 'risk', 'sensitivity', 'calprox', 'contains', 'mineral', 'calcium', 'magnesium', 'phosphate', 'combined', 'fluoride', 'remineralizes', 'restores', 'enamel', 'calprox', 'found', 'almost', 'supersmile', 'product', 'proudly', 'free', 'silica', 'parabens', 'sulfate', 'known', 'allergen', 'animal', 'product', 'triclosan', 'microbeads', 'polyethylene', 'bpa', 'q', 'supersmile', 'product', 'work', 'type', 'teeth', 'supersmile', 'work', 'type', 'teeth', 'including', 'natural', 'teeth', 'veneer', 'crown', 'bonding', 'even', 'denture', 'supersmile', 'also', 'great', 'use', 'orthodontic', 'work', 'brace', 'invisalign', 'q', 'eat', 'right', 'finish', 'brushing', 'yes', 'eat', 'right', 'brushing', 'get', 'rid', 'daily', 'build', 'make', 'sure', 'last', 'thing', 'going', 'bed', 'brush', 'teeth', 'q', 'whitening', 'toothpaste', 'go', 'dry', 'toothbrush', 'whitening', 'toothpaste', 'best', 'used', 'dry', 'toothbrush', 'calprox', 'formula', 'reacts', 'water', 'ideally', 'reaction', 'begin', 'saliva', 'mouth', 'water', 'toothbrush', 'q', 'recommended', 'time', 'used', 'brushing', 'recommend', 'brush', 'teeth', 'least', '2', 'minute', 'morning', '2', 'minute', 'night', 'right', 'going', 'bed', 'extremely', 'important', 'brush', 'night', 'day', 'swallow', '20', '000', 'time', 'drink', 'talk', 'contribute', 'quantity', 'saliva', 'mouth', 'produce', 'night', 'however', 'swallow', '20', 'time', 'allowing', 'plaque', 'bacteria', 'form', 'uninterrupted', 'plaque', 'remains', 'teeth', 'hour', 'turn', 'bacterial', 'thus', 'contributing', 'plaque', 'buildup', 'morning', 'breath', 'q', 'advantage', 'using', 'supersmile', 'product', 'opposed', 'whitening', 'product', 'supersmiles', 'professional', 'whitening', 'toothpaste', 'recommended', 'cosmetic', 'dentist', 'worldwide', 'clinically', 'proven', 'whiten', 'teeth', '4', 'shade', '6', 'shade', 'used', 'supersmile', 'whitening', 'accelerator', 'supersmile', 'professional', 'whitening', 'toothpaste', 'remineralizes', 'teeth', 'calcium', 'magnesium', 'phosphate', 'fluoride', 'restore', 'enamel', 'fight', 'cavity', 'simply', 'put', 'convenient', 'healthy', 'way', 'powerfully', 'whiten', 'teeth', 'without', 'sensitivity', 'messy', 'strip', 'tray', 'change', 'lifestyle', 'continue', 'enjoy', 'favorite', 'food', 'beverage', 'also', 'uniquely', 'work', 'well', 'restore', 'dental', 'restoration', 'original', 'shade', 'including', 'bonded', 'teeth', 'veneer', 'cap', 'denture', 'harsh', 'sensitivity', 'causing', 'bleach', 'dehydrate', 'enamel', 'free', 'sl', 'parabens', 'known', 'allergen', 'animal', 'product', 'bpa', 'q', 'long', 'take', 'see', 'result', 'people', 'may', 'see', 'result', 'one', 'brushing', 'take', 'little', 'longer', 'people', 'see', 'result', 'day', 'use', 'directed', 'process', 'continuous', 'one', 'please', 'remember', 'lot', 'factor', 'go', 'long', 'process', 'take', 'age', 'medication', 'eating', 'habit', 'dental', 'work', 'etc', 'addition', 'depends', 'stain', 'long', 'deeply', 'rooted', 'enamel', 'positive', 'result', 'vary', 'however', 'change', 'eating', 'habit', 'eat', 'drink', 'usual', 'continuous', 'brushing', 'continue', 'remove', 'stain', 'whiten']),\n",
       "       list(['naturally', 'stimulating', 'essential', 'oil', 'make', 'morning', 'mint', 'body', 'lotion', 'aromatherapy', 'essential', 'daily', 'beauty', 'ritual', 'sought', 'woman', 'men', 'alike', 'best', 'selling', 'natural', 'mint', 'lotion', 'make', 'perfect', 'gift', 'welcome', 'world', 'archipelago', 'botanical', 'warm', 'candlelight', 'exquisite', 'fragrance', 'soothing', 'product', 'make', 'house', 'home', 'jump', 'start', 'morning', 'gentle', 'boost', 'mother', 'nature', 'naturally', 'invigorating', 'essential', 'oil', 'fresh', 'basil', 'mandarin', 'awaken', 'sens', 'fill', 'shower', 'amazing', 'note', 'citrus', 'mint', 'better', 'way', 'start', 'day']),\n",
       "       list(['sink', 'sweet', 'tooth', 'milk', 'dud', 'candya', 'delicious', 'blend', 'smooth', 'milk', 'chocolate', 'chewy', 'caramel', 'bite', 'sized', 'candy', 'perfect', 'popping', 'whether', 'youre', 'home', 'go', 'watching', 'movie', 'friend', 'stock', 'always', 'mouthwatering', 'treat', 'within', 'reach']),\n",
       "       list(['sink', 'sweet', 'tooth', 'milk', 'dud', 'candya', 'delicious', 'blend', 'smooth', 'milk', 'chocolate', 'chewy', 'caramel', 'bite', 'sized', 'candy', 'perfect', 'popping', 'whether', 'youre', 'home', 'go', 'watching', 'movie', 'friend', 'stock', 'always', 'mouthwatering', 'treat', 'within', 'reach']),\n",
       "       list(['perfect', 'lentil', 'soup', 'start', 'goya', 'lentil', 'try', 'salad']),\n",
       "       list(['saran', 'premium', 'wrap', 'extra', 'tough', 'yet', 'easy', 'handle', 'way', 'wrap', 'freshness', 'ideal', 'meat', 'fruit', 'heavy', 'duty', 'protection', 'keep', 'food', 'best', 'stretch', 'seal', 'premium', 'choice', 'wrap', 'saran', 'premium', 'wrap', 'chlorine', 'free', 'committed', 'using', 'environmentally', 'responsible', 'ingredient', 'product', 'saran', 'premium', 'wrap', 'extra', 'tough', 'yet', 'easy', 'way', 'wrap', 'freshness', 'ideal', 'meat', 'fruit', 'heavy', 'duty', 'protection', 'keep', 'food', 'best', 'stretch', 'seal', 'premium', 'choice', 'wrap', 'saran', 'premium', 'wrap', 'chlorine', 'free', 'committed', 'using', 'environmentally', 'responsible', 'ingredient', 'product']),\n",
       "       list(['200', 'sq', 'ft', '285', 'ft', 'x', '11', '3', '4', 'x', '18', '6', 'm2', 'easy', 'tear', 'edge', 'plastic', 'cutting', 'edge', 'uniquely', 'angled', 'plastic', 'teeth', 'cut', 'film', 'easily', 'finger', 'friendlier', 'plastic', 'cutting', 'edge', 'finger', 'friendly', 'easy', 'tear', 'film', 'ideal', 'covering', 'storing', 'leftover', 'cooky', 'fruit', 'sandwich', 'dessert', 'salad', 'snack', 'vegetable', 'cheese', 'go', 'great', 'picnic', 'travel', 'refrigerator', 'keep', 'refrigerated', 'food', 'fresh', 'saran', 'cling', 'plus', 'plastic', 'wrap', 'ideal', 'covering', 'storing', 'food', 'item', 'easy', 'tear', 'edge', 'plastic', 'cutting', 'edge', 'uniquely', 'angled', 'plastic', 'teeth', 'cut', 'film', 'easily', 'saran', 'cling', 'plus', 'plastic', 'wrap', 'offer', 'finger', 'friendlier', 'edge', 'cut', 'plastic', 'wrap', 'easy', 'tear', 'film', 'perfect', 'leftover', 'cooky', 'fruit', 'sandwich', 'dessert', 'salad', 'snack', 'vegetable', 'cheese', 'keep', 'refrigerated', 'food', 'fresh', 'go', 'saran', 'cling', 'plus', 'plastic', 'wrap', 'great', 'picnic', 'travel']),\n",
       "       list(['ibarra', 'chocolate', '19', 'oz']),\n",
       "       list(['knorr', 'granulated', 'chicken', 'flavor', 'bouillon', 'granulated', 'mix', 'blending', 'flavor', 'chicken', 'onion', 'parsley', 'spice', 'add', 'authentic', 'knorr', 'flavor', 'chicken', 'dish', 'versatile', 'product', 'made', 'natural', 'flavor', 'fat', 'free', 'cholesterol', 'free', 'knorr', 'granulated', 'bouillon', 'essential', 'pantry', 'item', 'everyday', 'use', 'granulated', 'format', 'allows', 'ultimate', 'versatility', 'cooking', 'need', 'granulated', 'bouillon', 'dissolve', 'quickly', 'cube', '1', 'tablespoon', 'granulated', 'bouillon', 'equivalent', '1', 'bouillon', 'cube', 'use', 'knorr', 'granulated', 'chicken', 'flavor', 'bouillon', 'enhance', 'flavor', 'recipe', 'like', 'delicious', 'knorr', 'chicken', 'taco', 'well', 'type', 'dish', 'like', 'soup', 'stew', 'sauce', 'rice', 'vegetable', 'pasta', 'chicken', 'dish', 'knorr', 'granulated', 'bouillon', 'come', 'additional', 'size', 'great', 'flavor', 'including', 'tomato', 'chicken', 'reduced', 'sodium', 'chicken', 'beef', 'shrimp', 'sure', 'find', 'latin', 'flavor', 'family', 'love', 'knorr', 'belief', 'good', 'food', 'matter', 'everyday', 'meal', 'magical', 'special', 'occasion', 'knorr', 'product', 'owe', 'taste', 'flavor', 'culinary', 'skill', 'passion', 'chef', 'knorr', 'source', 'high', 'quality', 'ingredient', 'create', 'delicious', 'side', 'dish', 'bouillon', 'sauce', 'gravy', 'soup', 'seasoning', 'enjoyed', 'family', 'everywhere']),\n",
       "       list(['red', 'chili', 'habanero', 'sauce', 'present', 'accompany', 'variety', 'dish', 'product', 'careful', 'selection', 'authentic', 'chile', 'habanero', 'one', 'hottest', 'world', 'enjoy', 'mexican', 'kind', 'seafood', 'pasta']),\n",
       "       list(['chicken', 'sea', 'solid', 'white', 'albacore', 'tuna', 'water', 'rich', 'protein', 'taste', 'great', 'excellent', 'source', 'omega', '3', 'fatty', 'acid', 'shown', 'help', 'maintain', 'heart', 'health', 'serving', 'chicken', 'sea', 'tuna', 'provides', '150mg', 'epa', 'dha', 'help', 'support', 'brain', 'function', 'immune', 'system', 'health', 'mild', 'flaky', 'white', 'albacore', 'dolphin', 'safe', 'tuna', 'wild', 'caught', 'kosher', 'eat', 'cold', 'sandwich', 'salad', 'hot', 'casserole', 'appetizer', 'main', 'dish', 'healthy', 'snack', 'anyway', 'dish', 'chicken', 'sea', 'canned', 'tuna', 'water', 'smart', 'delicious', 'choice', 'part', 'healthy', 'diet']),\n",
       "       list(['help', 'build', 'muscle', 'bcaa', 'amino', 'acid', 'improved', 'energy', 'focus', 'actual', 'product', 'packaging', 'material', 'may', 'contain', 'different', 'information', 'shown', 'website'])],\n",
       "      dtype=object)"
      ]
     },
     "execution_count": 86,
     "metadata": {},
     "output_type": "execute_result"
    }
   ],
   "source": [
    "product_data.values"
   ]
  },
  {
   "cell_type": "code",
   "execution_count": 89,
   "metadata": {},
   "outputs": [],
   "source": [
    "ethical_words = ['natural','bio','eco-friendly','fairtrade','sustainable','non-toxic','nature','low-carbon footprint','parabens','zero waste',]\n",
    "def get_ethicalwords(text):\n",
    "#     ethical_words = ['natural','Bio','Eco-Friendly','Fair-trade','environmental','ethical']\n",
    "    for i in range(len(product_data)):\n",
    "        for j in range(len(product_data[i])):\n",
    "            new_list = [w for w in text if w in ethical_words]\n",
    "#         print(new_list)\n",
    "        break\n",
    "    return new_list"
   ]
  },
  {
   "cell_type": "code",
   "execution_count": 90,
   "metadata": {},
   "outputs": [],
   "source": [
    "# for i in range(len(product_data)):\n",
    "#         for j in range(len(product_data[i])):\n",
    "#             print(product_data[i][j], end=' ')\n",
    "#         print()"
   ]
  },
  {
   "cell_type": "code",
   "execution_count": 91,
   "metadata": {},
   "outputs": [
    {
     "name": "stdout",
     "output_type": "stream",
     "text": [
      "Product data without stop_words 0                                    [natural, natural]\n",
      "1                                                    []\n",
      "2                                             [natural]\n",
      "3                                             [natural]\n",
      "4         [natural, natural, natural, natural, natural]\n",
      "5                                                    []\n",
      "6                                             [natural]\n",
      "7                                                    []\n",
      "8     [bio, parabens, bio, bio, parabens, natural, p...\n",
      "9                                     [natural, nature]\n",
      "10                                   [natural, natural]\n",
      "11                                                   []\n",
      "12                                            [natural]\n",
      "13                                            [natural]\n",
      "14        [natural, natural, natural, natural, natural]\n",
      "15                                                   []\n",
      "16                                            [natural]\n",
      "17                                                   []\n",
      "18    [bio, parabens, bio, bio, parabens, natural, p...\n",
      "19                                    [natural, nature]\n",
      "20                                                   []\n",
      "21                                                   []\n",
      "22                                                   []\n",
      "23                                                   []\n",
      "24                                                   []\n",
      "25                                                   []\n",
      "26                                            [natural]\n",
      "27                                                   []\n",
      "28                                                   []\n",
      "29                                                   []\n",
      "Name: description, dtype: object\n"
     ]
    }
   ],
   "source": [
    "new_data = product_data.apply(lambda x: get_ethicalwords(x))\n",
    "print(\"Product data without stop_words\", new_data)"
   ]
  },
  {
   "cell_type": "code",
   "execution_count": 92,
   "metadata": {},
   "outputs": [],
   "source": [
    "# def unique(text): \n",
    "#     # insert the list to the set \n",
    "#     list_set = set(text) \n",
    "#     # convert the set to the list \n",
    "#     unique_list = (list(list_set))  \n",
    "#     return unique_list"
   ]
  },
  {
   "cell_type": "code",
   "execution_count": 96,
   "metadata": {},
   "outputs": [
    {
     "name": "stdout",
     "output_type": "stream",
     "text": [
      "Green Profile is a product rathing out of 5\n",
      "Ethical Consumption Terminologies in the product: ['natural']\n",
      "Green Profile of the product: 1\n",
      "\n",
      "\n",
      "Ethical Consumption Terminologies in the product: ['natural']\n",
      "Green Profile of the product: 1\n",
      "\n",
      "\n",
      "Ethical Consumption Terminologies in the product: ['natural']\n",
      "Green Profile of the product: 1\n",
      "\n",
      "\n",
      "Ethical Consumption Terminologies in the product: ['natural']\n",
      "Green Profile of the product: 1\n",
      "\n",
      "\n",
      "Ethical Consumption Terminologies in the product: ['natural']\n",
      "Green Profile of the product: 1\n",
      "\n",
      "\n",
      "Ethical Consumption Terminologies in the product: ['bio', 'parabens', 'natural']\n",
      "Green Profile of the product: 2\n",
      "\n",
      "\n",
      "Ethical Consumption Terminologies in the product: ['bio', 'parabens', 'natural']\n",
      "Green Profile of the product: 2\n",
      "\n",
      "\n",
      "Ethical Consumption Terminologies in the product: ['bio', 'parabens', 'natural']\n",
      "Green Profile of the product: 2\n",
      "\n",
      "\n",
      "Ethical Consumption Terminologies in the product: ['natural', 'nature']\n",
      "Green Profile of the product: 1\n",
      "\n",
      "\n",
      "Ethical Consumption Terminologies in the product: ['natural', 'nature']\n",
      "Green Profile of the product: 1\n",
      "\n",
      "\n",
      "Ethical Consumption Terminologies in the product: ['natural']\n",
      "Green Profile of the product: 1\n",
      "\n",
      "\n",
      "Ethical Consumption Terminologies in the product: ['natural']\n",
      "Green Profile of the product: 1\n",
      "\n",
      "\n",
      "Ethical Consumption Terminologies in the product: ['natural']\n",
      "Green Profile of the product: 1\n",
      "\n",
      "\n",
      "Ethical Consumption Terminologies in the product: ['natural']\n",
      "Green Profile of the product: 1\n",
      "\n",
      "\n",
      "Ethical Consumption Terminologies in the product: ['natural']\n",
      "Green Profile of the product: 1\n",
      "\n",
      "\n",
      "Ethical Consumption Terminologies in the product: ['bio', 'parabens', 'natural']\n",
      "Green Profile of the product: 2\n",
      "\n",
      "\n",
      "Ethical Consumption Terminologies in the product: ['bio', 'parabens', 'natural']\n",
      "Green Profile of the product: 2\n",
      "\n",
      "\n",
      "Ethical Consumption Terminologies in the product: ['bio', 'parabens', 'natural']\n",
      "Green Profile of the product: 2\n",
      "\n",
      "\n",
      "Ethical Consumption Terminologies in the product: ['natural', 'nature']\n",
      "Green Profile of the product: 1\n",
      "\n",
      "\n",
      "Ethical Consumption Terminologies in the product: ['natural', 'nature']\n",
      "Green Profile of the product: 1\n",
      "\n",
      "\n",
      "Ethical Consumption Terminologies in the product: ['natural']\n",
      "Green Profile of the product: 1\n",
      "\n",
      "\n"
     ]
    }
   ],
   "source": [
    "rating = 0\n",
    "print(\"Green Profile is a product rathing out of 5\")\n",
    "for i in range(len(new_data)):\n",
    "        for j in range(len(new_data[i])):\n",
    "            new_data[i] = list(dict.fromkeys(new_data[i]))\n",
    "            print(\"Ethical Consumption Terminologies in the product:\",new_data[i])\n",
    "            rating = ((len(new_data[i])/ len(ethical_words))*10)\n",
    "            print(\"Green Profile of the product:\",math.ceil(rating/2))\n",
    "            print(\"\\n\")\n",
    "# new_data = list(dict.fromkeys(new_data))"
   ]
  },
  {
   "cell_type": "code",
   "execution_count": null,
   "metadata": {},
   "outputs": [],
   "source": []
  },
  {
   "cell_type": "code",
   "execution_count": null,
   "metadata": {},
   "outputs": [],
   "source": []
  }
 ],
 "metadata": {
  "kernelspec": {
   "display_name": "Python 3",
   "language": "python",
   "name": "python3"
  },
  "language_info": {
   "codemirror_mode": {
    "name": "ipython",
    "version": 3
   },
   "file_extension": ".py",
   "mimetype": "text/x-python",
   "name": "python",
   "nbconvert_exporter": "python",
   "pygments_lexer": "ipython3",
   "version": "3.7.3"
  }
 },
 "nbformat": 4,
 "nbformat_minor": 2
}
